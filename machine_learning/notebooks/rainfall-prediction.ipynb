{
 "cells": [
  {
   "cell_type": "code",
   "execution_count": 1,
   "id": "da84e028",
   "metadata": {
    "_cell_guid": "b1076dfc-b9ad-4769-8c92-a6c4dae69d19",
    "_uuid": "8f2839f25d086af736a60e9eeb907d3b93b6e0e5",
    "execution": {
     "iopub.execute_input": "2024-01-20T14:30:50.292736Z",
     "iopub.status.busy": "2024-01-20T14:30:50.292275Z",
     "iopub.status.idle": "2024-01-20T14:30:50.744452Z",
     "shell.execute_reply": "2024-01-20T14:30:50.742234Z"
    },
    "papermill": {
     "duration": 0.467513,
     "end_time": "2024-01-20T14:30:50.746969",
     "exception": false,
     "start_time": "2024-01-20T14:30:50.279456",
     "status": "completed"
    },
    "tags": []
   },
   "outputs": [
    {
     "name": "stdout",
     "output_type": "stream",
     "text": [
      "/kaggle/input/weather-dataset/weather_dataset.csv\n"
     ]
    }
   ],
   "source": [
    "# This Python 3 environment comes with many helpful analytics libraries installed\n",
    "# It is defined by the kaggle/python Docker image: https://github.com/kaggle/docker-python\n",
    "# For example, here's several helpful packages to load\n",
    "\n",
    "import numpy as np # linear algebra\n",
    "import pandas as pd # data processing, CSV file I/O (e.g. pd.read_csv)\n",
    "\n",
    "# Input data files are available in the read-only \"../input/\" directory\n",
    "# For example, running this (by clicking run or pressing Shift+Enter) will list all files under the input directory\n",
    "\n",
    "import os\n",
    "for dirname, _, filenames in os.walk('/kaggle/input'):\n",
    "    for filename in filenames:\n",
    "        print(os.path.join(dirname, filename))\n",
    "\n",
    "# You can write up to 20GB to the current directory (/kaggle/working/) that gets preserved as output when you create a version using \"Save & Run All\" \n",
    "# You can also write temporary files to /kaggle/temp/, but they won't be saved outside of the current session"
   ]
  },
  {
   "cell_type": "code",
   "execution_count": 2,
   "id": "0f38d22e",
   "metadata": {
    "execution": {
     "iopub.execute_input": "2024-01-20T14:30:50.771433Z",
     "iopub.status.busy": "2024-01-20T14:30:50.770102Z",
     "iopub.status.idle": "2024-01-20T14:31:47.415849Z",
     "shell.execute_reply": "2024-01-20T14:31:47.414293Z"
    },
    "papermill": {
     "duration": 56.660656,
     "end_time": "2024-01-20T14:31:47.418884",
     "exception": false,
     "start_time": "2024-01-20T14:30:50.758228",
     "status": "completed"
    },
    "tags": []
   },
   "outputs": [
    {
     "name": "stdout",
     "output_type": "stream",
     "text": [
      "Collecting pyspark\r\n",
      "  Downloading pyspark-3.5.0.tar.gz (316.9 MB)\r\n",
      "\u001b[2K     \u001b[90m━━━━━━━━━━━━━━━━━━━━━━━━━━━━━━━━━━━━━━━\u001b[0m \u001b[32m316.9/316.9 MB\u001b[0m \u001b[31m3.2 MB/s\u001b[0m eta \u001b[36m0:00:00\u001b[0m\r\n",
      "\u001b[?25h  Preparing metadata (setup.py) ... \u001b[?25l-\b \b\\\b \bdone\r\n",
      "\u001b[?25hRequirement already satisfied: py4j==0.10.9.7 in /opt/conda/lib/python3.10/site-packages (from pyspark) (0.10.9.7)\r\n",
      "Building wheels for collected packages: pyspark\r\n",
      "  Building wheel for pyspark (setup.py) ... \u001b[?25l-\b \b\\\b \b|\b \bdone\r\n",
      "\u001b[?25h  Created wheel for pyspark: filename=pyspark-3.5.0-py2.py3-none-any.whl size=317425344 sha256=8b39e3c5435ac613c6cbb9330400c64376fd0afceec3c76ab4df989a77765188\r\n",
      "  Stored in directory: /root/.cache/pip/wheels/41/4e/10/c2cf2467f71c678cfc8a6b9ac9241e5e44a01940da8fbb17fc\r\n",
      "Successfully built pyspark\r\n",
      "Installing collected packages: pyspark\r\n",
      "Successfully installed pyspark-3.5.0\r\n"
     ]
    }
   ],
   "source": [
    "!pip install pyspark"
   ]
  },
  {
   "cell_type": "code",
   "execution_count": 3,
   "id": "8b67f68b",
   "metadata": {
    "execution": {
     "iopub.execute_input": "2024-01-20T14:31:47.465867Z",
     "iopub.status.busy": "2024-01-20T14:31:47.465403Z",
     "iopub.status.idle": "2024-01-20T14:32:04.479539Z",
     "shell.execute_reply": "2024-01-20T14:32:04.477906Z"
    },
    "papermill": {
     "duration": 17.041145,
     "end_time": "2024-01-20T14:32:04.482717",
     "exception": false,
     "start_time": "2024-01-20T14:31:47.441572",
     "status": "completed"
    },
    "tags": []
   },
   "outputs": [
    {
     "name": "stderr",
     "output_type": "stream",
     "text": [
      "Setting default log level to \"WARN\".\n",
      "To adjust logging level use sc.setLogLevel(newLevel). For SparkR, use setLogLevel(newLevel).\n",
      "24/01/20 14:31:52 WARN NativeCodeLoader: Unable to load native-hadoop library for your platform... using builtin-java classes where applicable\n",
      "                                                                                \r"
     ]
    }
   ],
   "source": [
    "from pyspark.sql import SparkSession\n",
    "from pyspark.ml import Pipeline\n",
    "from pyspark.ml.feature import StringIndexer, VectorAssembler\n",
    "from pyspark.ml.classification import RandomForestClassifier, LogisticRegression\n",
    "from pyspark.ml.evaluation import MulticlassClassificationEvaluator\n",
    "from pyspark.ml.classification import RandomForestClassificationModel\n",
    "import os\n",
    "\n",
    "# Initialize Spark Session\n",
    "spark = SparkSession.builder.appName('weather_prediction').getOrCreate()\n",
    "\n",
    "# Load the dataset\n",
    "file_path = '/kaggle/input/weather-dataset/weather_dataset.csv'\n",
    "df = spark.read.csv(file_path, header=True, inferSchema=True)"
   ]
  },
  {
   "cell_type": "code",
   "execution_count": 4,
   "id": "257c6ec3",
   "metadata": {
    "execution": {
     "iopub.execute_input": "2024-01-20T14:32:04.530775Z",
     "iopub.status.busy": "2024-01-20T14:32:04.530125Z",
     "iopub.status.idle": "2024-01-20T14:34:14.849869Z",
     "shell.execute_reply": "2024-01-20T14:34:14.848415Z"
    },
    "papermill": {
     "duration": 130.393673,
     "end_time": "2024-01-20T14:34:14.899102",
     "exception": false,
     "start_time": "2024-01-20T14:32:04.505429",
     "status": "completed"
    },
    "tags": []
   },
   "outputs": [
    {
     "name": "stderr",
     "output_type": "stream",
     "text": [
      "                                                                                \r"
     ]
    },
    {
     "name": "stdout",
     "output_type": "stream",
     "text": [
      "+--------------+-----------+------------+\n",
      "|        Column|F-statistic|     P-value|\n",
      "+--------------+-----------+------------+\n",
      "|       predict|  177.93175|1.110223E-16|\n",
      "|   weatherDesc|  123.76882|1.110223E-16|\n",
      "|weatherIconUrl|   62.73706|1.110223E-16|\n",
      "|      moonrise|  7.1725593|1.110223E-16|\n",
      "|       moonset|  7.1725593|1.110223E-16|\n",
      "|       sunrise|   7.107449|4.2002156E-8|\n",
      "|    moon_phase|  3.2980402| 0.003425629|\n",
      "+--------------+-----------+------------+\n",
      "\n"
     ]
    }
   ],
   "source": [
    "from pyspark.sql import SparkSession\n",
    "from pyspark.sql.functions import col, mean, stddev\n",
    "from pyspark.sql.types import StringType\n",
    "import pyspark.sql.functions as F\n",
    "from scipy import stats\n",
    "\n",
    "# Selecting categorical columns\n",
    "categorical_columns = [field.name for field in df.schema.fields if isinstance(field.dataType, StringType)]\n",
    "\n",
    "# Function to calculate ANOVA F-statistic and p-value\n",
    "def anova_test(df, categorical_column, numerical_column='precipMM'):\n",
    "    categories = df.select(categorical_column).distinct().rdd.flatMap(lambda x: x).collect()\n",
    "    if len(categories) < 2:\n",
    "        return None\n",
    "    \n",
    "    # Calculating the overall mean\n",
    "    overall_mean = df.select(mean(numerical_column)).collect()[0][0]\n",
    "    \n",
    "    # Calculating the within-group and between-group sum of squares\n",
    "    sum_squares_between = sum([\n",
    "        df.filter(col(categorical_column) == cat).count() * \n",
    "        (df.filter(col(categorical_column) == cat).select(mean(numerical_column)).collect()[0][0] - overall_mean) ** 2 \n",
    "        for cat in categories\n",
    "    ])\n",
    "\n",
    "    sum_squares_within = sum([\n",
    "        df.filter(col(categorical_column) == cat).select(F.variance(numerical_column)).collect()[0][0] *\n",
    "        (df.filter(col(categorical_column) == cat).count() - 1)\n",
    "        for cat in categories\n",
    "    ])\n",
    "\n",
    "    # Degrees of freedom\n",
    "    df_between = len(categories) - 1\n",
    "    df_within = df.count() - len(categories)\n",
    "\n",
    "    # Calculating the F-statistic\n",
    "    mean_square_between = sum_squares_between / df_between\n",
    "    mean_square_within = sum_squares_within / df_within\n",
    "    f_statistic = mean_square_between / mean_square_within\n",
    "\n",
    "    # P-Value (using approximation)\n",
    "    p_value = 1 - stats.f.cdf(f_statistic, df_between, df_within)\n",
    "\n",
    "    return (categorical_column, f_statistic, p_value)\n",
    "\n",
    "# Limit the DataFrame to the first 5000 rows\n",
    "df_limit = df.limit(500)\n",
    "\n",
    "# Applying ANOVA test for each categorical column\n",
    "anova_results = [anova_test(df_limit, column) for column in categorical_columns if anova_test(df_limit, column) is not None]\n",
    "# Convert results to Spark DataFrame\n",
    "anova_results_converted = [(col, float(f_stat), float(p_val)) for col, f_stat, p_val in anova_results]\n",
    "\n",
    "# Define the schema\n",
    "from pyspark.sql.types import StructType, StructField, FloatType, StringType\n",
    "\n",
    "# Create DataFrame using the converted results\n",
    "schema = StructType([\n",
    "    StructField(\"Column\", StringType(), True),\n",
    "    StructField(\"F-statistic\", FloatType(), True),\n",
    "    StructField(\"P-value\", FloatType(), True)\n",
    "])\n",
    "\n",
    "anova_df = spark.createDataFrame(anova_results_converted, schema)\n",
    "\n",
    "# Filter and Sort Results\n",
    "significant_results = anova_df.filter(col('P-value') <= 0.05).sort('F-statistic', ascending=False)\n",
    "\n",
    "# Show Results\n",
    "significant_results.show()\n"
   ]
  },
  {
   "cell_type": "code",
   "execution_count": 5,
   "id": "ba3d5e41",
   "metadata": {
    "execution": {
     "iopub.execute_input": "2024-01-20T14:34:14.959585Z",
     "iopub.status.busy": "2024-01-20T14:34:14.959035Z",
     "iopub.status.idle": "2024-01-20T14:34:15.721038Z",
     "shell.execute_reply": "2024-01-20T14:34:15.719817Z"
    },
    "papermill": {
     "duration": 0.790593,
     "end_time": "2024-01-20T14:34:15.723908",
     "exception": false,
     "start_time": "2024-01-20T14:34:14.933315",
     "status": "completed"
    },
    "tags": []
   },
   "outputs": [
    {
     "data": {
      "image/png": "[encoded data removed]",
      "text/plain": [
       "<Figure size 1500x600 with 1 Axes>"
      ]
     },
     "metadata": {},
     "output_type": "display_data"
    }
   ],
   "source": [
    "import seaborn as sns\n",
    "import matplotlib.pyplot as plt\n",
    "import pandas as pd\n",
    "\n",
    "# Your existing code for ANOVA\n",
    "# ...\n",
    "\n",
    "# Convert the ANOVA results list to a DataFrame\n",
    "anova_df = pd.DataFrame(anova_results, columns=['Column', 'F-statistic', 'P-value'])\n",
    "\n",
    "# Vẽ biểu đồ cột cho F-statistic\n",
    "plt.figure(figsize=(15, 6))\n",
    "plt.bar(anova_df['Column'], anova_df['F-statistic'], color='blue')\n",
    "plt.title('ANOVA - F-test')\n",
    "plt.xlabel('Category')\n",
    "plt.ylabel('F-statistic')\n",
    "plt.show()\n"
   ]
  },
  {
   "cell_type": "markdown",
   "id": "56cdc953",
   "metadata": {
    "papermill": {
     "duration": 0.023804,
     "end_time": "2024-01-20T14:34:15.773036",
     "exception": false,
     "start_time": "2024-01-20T14:34:15.749232",
     "status": "completed"
    },
    "tags": []
   },
   "source": [
    "Chọn 3 cột predict, weatherDesc, weatherIconUrl có ảnh hưởng đến precipMM."
   ]
  },
  {
   "cell_type": "code",
   "execution_count": 6,
   "id": "665ccc35",
   "metadata": {
    "execution": {
     "iopub.execute_input": "2024-01-20T14:34:15.822731Z",
     "iopub.status.busy": "2024-01-20T14:34:15.822299Z",
     "iopub.status.idle": "2024-01-20T14:36:20.887009Z",
     "shell.execute_reply": "2024-01-20T14:36:20.885271Z"
    },
    "papermill": {
     "duration": 125.094709,
     "end_time": "2024-01-20T14:36:20.891916",
     "exception": false,
     "start_time": "2024-01-20T14:34:15.797207",
     "status": "completed"
    },
    "tags": []
   },
   "outputs": [
    {
     "name": "stderr",
     "output_type": "stream",
     "text": [
      "                                                                                \r"
     ]
    }
   ],
   "source": [
    "from pyspark.sql import SparkSession\n",
    "from pyspark.sql.functions import col\n",
    "from pyspark.sql.types import FloatType\n",
    "from scipy import stats\n",
    "\n",
    "def find_significant_vars_spark(df, target_var, alpha=0.05):\n",
    "    numeric_vars = [col_name for col_name, data_type in df.dtypes if data_type in ['double', 'int']]\n",
    "    numeric_vars.remove(target_var)\n",
    "\n",
    "    significant_vars = []\n",
    "\n",
    "    for var in numeric_vars:\n",
    "        correlation = df.stat.corr(var, target_var)\n",
    "        p_value = stats.pearsonr(df.select(var).rdd.flatMap(lambda x: x).collect(),\n",
    "                                 df.select(target_var).rdd.flatMap(lambda x: x).collect())[1]\n",
    "\n",
    "        if p_value < alpha:\n",
    "            significant_vars.append({\n",
    "                'Column': var,\n",
    "                'F-statistic': correlation,\n",
    "                'P-value': p_value\n",
    "            })\n",
    "\n",
    "    return significant_vars\n",
    "\n",
    "find_significant_vars_spark(df, 'precipMM')\n",
    "# Gọi hàm và lưu kết quả vào một biến\n",
    "significant_vars_output = find_significant_vars_spark(df, 'precipMM')"
   ]
  },
  {
   "cell_type": "code",
   "execution_count": 7,
   "id": "bb6ab37f",
   "metadata": {
    "execution": {
     "iopub.execute_input": "2024-01-20T14:36:21.038376Z",
     "iopub.status.busy": "2024-01-20T14:36:21.037910Z",
     "iopub.status.idle": "2024-01-20T14:36:21.640843Z",
     "shell.execute_reply": "2024-01-20T14:36:21.639532Z"
    },
    "papermill": {
     "duration": 0.655032,
     "end_time": "2024-01-20T14:36:21.643425",
     "exception": false,
     "start_time": "2024-01-20T14:36:20.988393",
     "status": "completed"
    },
    "tags": []
   },
   "outputs": [
    {
     "data": {
      "image/png": "[encoded data removed]",
      "text/plain": [
       "<Figure size 2500x600 with 1 Axes>"
      ]
     },
     "metadata": {},
     "output_type": "display_data"
    }
   ],
   "source": [
    "# Tạo DataFrame từ kết quả\n",
    "significant_variables_df = pd.DataFrame(significant_vars_output)\n",
    "\n",
    "# Vẽ biểu đồ\n",
    "plt.figure(figsize=(25, 6))\n",
    "sns.barplot(x='Column', y='F-statistic', data=significant_variables_df, color='blue')\n",
    "plt.title('Significant Variables - F-statistic')\n",
    "plt.ylabel('Hệ số tương quan')\n",
    "plt.show()\n"
   ]
  },
  {
   "cell_type": "markdown",
   "id": "dccd3b8d",
   "metadata": {
    "papermill": {
     "duration": 0.045973,
     "end_time": "2024-01-20T14:36:21.733098",
     "exception": false,
     "start_time": "2024-01-20T14:36:21.687125",
     "status": "completed"
    },
    "tags": []
   },
   "source": [
    "Chọn 2 cột weatherCode và precipInches."
   ]
  },
  {
   "cell_type": "code",
   "execution_count": 8,
   "id": "864493a9",
   "metadata": {
    "execution": {
     "iopub.execute_input": "2024-01-20T14:36:21.823707Z",
     "iopub.status.busy": "2024-01-20T14:36:21.823222Z",
     "iopub.status.idle": "2024-01-20T14:36:21.851184Z",
     "shell.execute_reply": "2024-01-20T14:36:21.849924Z"
    },
    "papermill": {
     "duration": 0.076274,
     "end_time": "2024-01-20T14:36:21.853962",
     "exception": false,
     "start_time": "2024-01-20T14:36:21.777688",
     "status": "completed"
    },
    "tags": []
   },
   "outputs": [],
   "source": [
    "# Split the data into training and test sets\n",
    "# Chia bộ dữ liệu thành hai phần: dữ liệu huấn luyện và dữ liệu kiểm thử.\n",
    "train_data, test_data = df.randomSplit([0.8, 0.2])"
   ]
  },
  {
   "cell_type": "code",
   "execution_count": 9,
   "id": "536dbe8a",
   "metadata": {
    "execution": {
     "iopub.execute_input": "2024-01-20T14:36:21.944458Z",
     "iopub.status.busy": "2024-01-20T14:36:21.944019Z",
     "iopub.status.idle": "2024-01-20T14:36:21.974495Z",
     "shell.execute_reply": "2024-01-20T14:36:21.973037Z"
    },
    "papermill": {
     "duration": 0.081936,
     "end_time": "2024-01-20T14:36:21.979898",
     "exception": false,
     "start_time": "2024-01-20T14:36:21.897962",
     "status": "completed"
    },
    "tags": []
   },
   "outputs": [],
   "source": [
    "# Selecting relevant columns and dropping rows with missing values\n",
    "# Chọn ra các cột dữ liệu liên quan và loại bỏ những hàng có giá trị thiếu.\n",
    "selected_columns = ['predict', 'weatherDesc', 'weatherIconUrl','precipMM','weatherCode','precipInches' ]\n",
    "df = df.select(selected_columns).na.drop()"
   ]
  },
  {
   "cell_type": "code",
   "execution_count": 10,
   "id": "9ce1af75",
   "metadata": {
    "execution": {
     "iopub.execute_input": "2024-01-20T14:36:22.075144Z",
     "iopub.status.busy": "2024-01-20T14:36:22.074320Z",
     "iopub.status.idle": "2024-01-20T14:36:25.077215Z",
     "shell.execute_reply": "2024-01-20T14:36:25.076059Z"
    },
    "papermill": {
     "duration": 3.055145,
     "end_time": "2024-01-20T14:36:25.080919",
     "exception": false,
     "start_time": "2024-01-20T14:36:22.025774",
     "status": "completed"
    },
    "tags": []
   },
   "outputs": [
    {
     "name": "stderr",
     "output_type": "stream",
     "text": [
      "                                                                                \r"
     ]
    }
   ],
   "source": [
    "# Indexing the label column\n",
    "indexer = StringIndexer(inputCol='predict', outputCol='predictId')\n",
    "predictStringIndexer = indexer.fit(df)\n",
    "df = predictStringIndexer.transform(df)"
   ]
  },
  {
   "cell_type": "code",
   "execution_count": 11,
   "id": "e13a26ab",
   "metadata": {
    "execution": {
     "iopub.execute_input": "2024-01-20T14:36:25.175529Z",
     "iopub.status.busy": "2024-01-20T14:36:25.175066Z",
     "iopub.status.idle": "2024-01-20T14:36:26.800946Z",
     "shell.execute_reply": "2024-01-20T14:36:26.799653Z"
    },
    "papermill": {
     "duration": 1.676211,
     "end_time": "2024-01-20T14:36:26.805231",
     "exception": false,
     "start_time": "2024-01-20T14:36:25.129020",
     "status": "completed"
    },
    "tags": []
   },
   "outputs": [
    {
     "name": "stderr",
     "output_type": "stream",
     "text": [
      "                                                                                \r"
     ]
    }
   ],
   "source": [
    "indexer = StringIndexer(inputCol='weatherDesc', outputCol='weatherDescId')\n",
    "weatherDescStringIndexer = indexer.fit(df)\n",
    "df = weatherDescStringIndexer.transform(df)"
   ]
  },
  {
   "cell_type": "code",
   "execution_count": 12,
   "id": "457e86e0",
   "metadata": {
    "execution": {
     "iopub.execute_input": "2024-01-20T14:36:27.025448Z",
     "iopub.status.busy": "2024-01-20T14:36:27.024949Z",
     "iopub.status.idle": "2024-01-20T14:36:28.107387Z",
     "shell.execute_reply": "2024-01-20T14:36:28.106048Z"
    },
    "papermill": {
     "duration": 1.199161,
     "end_time": "2024-01-20T14:36:28.111211",
     "exception": false,
     "start_time": "2024-01-20T14:36:26.912050",
     "status": "completed"
    },
    "tags": []
   },
   "outputs": [],
   "source": [
    "indexer = StringIndexer(inputCol='weatherIconUrl', outputCol='weatherIconUrlId')\n",
    "weatherIconUrlStringIndexer = indexer.fit(df)\n",
    "df = weatherIconUrlStringIndexer.transform(df)"
   ]
  },
  {
   "cell_type": "code",
   "execution_count": 13,
   "id": "719c2f60",
   "metadata": {
    "execution": {
     "iopub.execute_input": "2024-01-20T14:36:28.224122Z",
     "iopub.status.busy": "2024-01-20T14:36:28.223711Z",
     "iopub.status.idle": "2024-01-20T14:36:29.330059Z",
     "shell.execute_reply": "2024-01-20T14:36:29.328861Z"
    },
    "papermill": {
     "duration": 1.156502,
     "end_time": "2024-01-20T14:36:29.332780",
     "exception": false,
     "start_time": "2024-01-20T14:36:28.176278",
     "status": "completed"
    },
    "tags": []
   },
   "outputs": [],
   "source": [
    "indexer = StringIndexer(inputCol='precipMM', outputCol='label')\n",
    "precipMMStringIndexer = indexer.fit(df)\n",
    "df = precipMMStringIndexer.transform(df)"
   ]
  },
  {
   "cell_type": "code",
   "execution_count": 14,
   "id": "a477c615",
   "metadata": {
    "execution": {
     "iopub.execute_input": "2024-01-20T14:36:29.422387Z",
     "iopub.status.busy": "2024-01-20T14:36:29.421931Z",
     "iopub.status.idle": "2024-01-20T14:36:29.699779Z",
     "shell.execute_reply": "2024-01-20T14:36:29.698648Z"
    },
    "papermill": {
     "duration": 0.327668,
     "end_time": "2024-01-20T14:36:29.703869",
     "exception": false,
     "start_time": "2024-01-20T14:36:29.376201",
     "status": "completed"
    },
    "tags": []
   },
   "outputs": [
    {
     "name": "stdout",
     "output_type": "stream",
     "text": [
      "+-------+--------------------+--------------------+--------+-----------+------------+---------+-------------+----------------+-----+\n",
      "|predict|         weatherDesc|      weatherIconUrl|precipMM|weatherCode|precipInches|predictId|weatherDescId|weatherIconUrlId|label|\n",
      "+-------+--------------------+--------------------+--------+-----------+------------+---------+-------------+----------------+-----+\n",
      "|   rain|Patchy rain possible|[{'value': 'https...|     0.2|        176|         0.0|      1.0|          1.0|             6.0|  1.0|\n",
      "|no rain|       Partly cloudy|[{'value': 'https...|     0.0|        116|         0.0|      0.0|          0.0|             0.0|  0.0|\n",
      "|no rain|       Partly cloudy|[{'value': 'https...|     0.0|        116|         0.0|      0.0|          0.0|             0.0|  0.0|\n",
      "|no rain|              Cloudy|[{'value': 'https...|     0.0|        119|         0.0|      0.0|          2.0|             1.0|  0.0|\n",
      "|no rain|              Cloudy|[{'value': 'https...|     0.0|        119|         0.0|      0.0|          2.0|             1.0|  0.0|\n",
      "|   rain|Patchy rain possible|[{'value': 'https...|     0.3|        176|         0.0|      1.0|          1.0|             6.0|  3.0|\n",
      "|   rain|Patchy rain possible|[{'value': 'https...|     0.1|        176|         0.0|      1.0|          1.0|             5.0|  2.0|\n",
      "|   rain|Patchy rain possible|[{'value': 'https...|     0.1|        176|         0.0|      1.0|          1.0|             5.0|  2.0|\n",
      "|no rain|       Partly cloudy|[{'value': 'https...|     0.0|        116|         0.0|      0.0|          0.0|             3.0|  0.0|\n",
      "|no rain|       Partly cloudy|[{'value': 'https...|     0.0|        116|         0.0|      0.0|          0.0|             3.0|  0.0|\n",
      "|   rain|Patchy rain possible|[{'value': 'https...|     0.1|        176|         0.0|      1.0|          1.0|             5.0|  2.0|\n",
      "|   rain| Heavy rain at times|[{'value': 'https...|     1.3|        305|         0.0|      1.0|          8.0|             8.0| 12.0|\n",
      "|   rain|Moderate or heavy...|[{'value': 'https...|     1.7|        356|         0.1|      1.0|          6.0|             8.0| 17.0|\n",
      "|   rain|Patchy rain possible|[{'value': 'https...|     0.3|        176|         0.0|      1.0|          1.0|             5.0|  3.0|\n",
      "|   rain|Moderate or heavy...|[{'value': 'https...|     2.5|        356|         0.1|      1.0|          6.0|             8.0| 25.0|\n",
      "|   rain|Moderate or heavy...|[{'value': 'https...|     3.5|        356|         0.1|      1.0|          6.0|             8.0| 35.0|\n",
      "|   rain|Moderate rain at ...|[{'value': 'https...|     0.7|        299|         0.0|      1.0|          7.0|             8.0|  7.0|\n",
      "|   rain|Moderate or heavy...|[{'value': 'https...|     1.7|        356|         0.1|      1.0|          6.0|             8.0| 17.0|\n",
      "|   rain|Moderate or heavy...|[{'value': 'https...|     2.8|        356|         0.1|      1.0|          6.0|             7.0| 31.0|\n",
      "|   rain|Moderate or heavy...|[{'value': 'https...|     1.5|        356|         0.1|      1.0|          6.0|             7.0| 14.0|\n",
      "+-------+--------------------+--------------------+--------+-----------+------------+---------+-------------+----------------+-----+\n",
      "only showing top 20 rows\n",
      "\n"
     ]
    }
   ],
   "source": [
    "df.show()"
   ]
  },
  {
   "cell_type": "code",
   "execution_count": 15,
   "id": "27da5af6",
   "metadata": {
    "execution": {
     "iopub.execute_input": "2024-01-20T14:36:29.837271Z",
     "iopub.status.busy": "2024-01-20T14:36:29.836862Z",
     "iopub.status.idle": "2024-01-20T14:36:29.840956Z",
     "shell.execute_reply": "2024-01-20T14:36:29.840099Z"
    },
    "papermill": {
     "duration": 0.073831,
     "end_time": "2024-01-20T14:36:29.844973",
     "exception": false,
     "start_time": "2024-01-20T14:36:29.771142",
     "status": "completed"
    },
    "tags": []
   },
   "outputs": [],
   "source": [
    "# lưu lại StringIndexer\n",
    "# indexer_model.write().overwrite().save(\"/kaggle/working/StringIndexer\")"
   ]
  },
  {
   "cell_type": "code",
   "execution_count": 16,
   "id": "dea54d58",
   "metadata": {
    "execution": {
     "iopub.execute_input": "2024-01-20T14:36:29.935928Z",
     "iopub.status.busy": "2024-01-20T14:36:29.935459Z",
     "iopub.status.idle": "2024-01-20T14:36:31.470338Z",
     "shell.execute_reply": "2024-01-20T14:36:31.469014Z"
    },
    "papermill": {
     "duration": 1.584859,
     "end_time": "2024-01-20T14:36:31.474273",
     "exception": false,
     "start_time": "2024-01-20T14:36:29.889414",
     "status": "completed"
    },
    "tags": []
   },
   "outputs": [
    {
     "name": "stderr",
     "output_type": "stream",
     "text": [
      "[Stage 2710:==============>                                         (1 + 3) / 4]\r"
     ]
    },
    {
     "name": "stdout",
     "output_type": "stream",
     "text": [
      "+--------+-------------+---------+----------------+-----+\n",
      "|precipMM|weatherDescId|predictId|weatherIconUrlId|label|\n",
      "+--------+-------------+---------+----------------+-----+\n",
      "|     4.5|          6.0|      1.0|             7.0| 43.0|\n",
      "|     3.5|          6.0|      1.0|             7.0| 35.0|\n",
      "|     2.3|          6.0|      1.0|             8.0| 23.0|\n",
      "|     1.9|          6.0|      1.0|             7.0| 19.0|\n",
      "|    13.1|          6.0|      1.0|             7.0|128.0|\n",
      "|     5.3|          6.0|      1.0|             7.0| 54.0|\n",
      "|    10.9|          6.0|      1.0|             7.0|113.0|\n",
      "|     4.4|          6.0|      1.0|             8.0| 45.0|\n",
      "|     0.9|          7.0|      1.0|             8.0| 10.0|\n",
      "|     2.2|          6.0|      1.0|             8.0| 22.0|\n",
      "|     1.5|          6.0|      1.0|             8.0| 14.0|\n",
      "|     6.1|          6.0|      1.0|             8.0| 56.0|\n",
      "|    17.4|          6.0|      1.0|             8.0|151.0|\n",
      "|    11.0|          6.0|      1.0|             8.0| 87.0|\n",
      "|     3.9|          6.0|      1.0|             8.0| 42.0|\n",
      "|     7.0|          6.0|      1.0|             8.0| 72.0|\n",
      "|     3.4|          6.0|      1.0|             7.0| 33.0|\n",
      "|     1.7|          6.0|      1.0|             7.0| 17.0|\n",
      "|     5.5|          6.0|      1.0|             7.0| 58.0|\n",
      "|     8.5|          6.0|      1.0|             7.0| 78.0|\n",
      "+--------+-------------+---------+----------------+-----+\n",
      "only showing top 20 rows\n",
      "\n"
     ]
    },
    {
     "name": "stderr",
     "output_type": "stream",
     "text": [
      "                                                                                \r"
     ]
    }
   ],
   "source": [
    "df.select('precipMM', 'weatherDescId','predictId','weatherIconUrlId', 'label' ).distinct().show()"
   ]
  },
  {
   "cell_type": "code",
   "execution_count": 17,
   "id": "632b583a",
   "metadata": {
    "execution": {
     "iopub.execute_input": "2024-01-20T14:36:31.609958Z",
     "iopub.status.busy": "2024-01-20T14:36:31.609394Z",
     "iopub.status.idle": "2024-01-20T14:36:31.743000Z",
     "shell.execute_reply": "2024-01-20T14:36:31.741686Z"
    },
    "papermill": {
     "duration": 0.205481,
     "end_time": "2024-01-20T14:36:31.746104",
     "exception": false,
     "start_time": "2024-01-20T14:36:31.540623",
     "status": "completed"
    },
    "tags": []
   },
   "outputs": [],
   "source": [
    "# Assembling the features\n",
    "# Tạo vector đặc trưng (features) từ các cột dữ liệu .\n",
    "assembler = VectorAssembler(inputCols=['predictId', 'weatherDescId', 'weatherIconUrlId','weatherCode','precipInches'], outputCol='features')\n",
    "df = assembler.transform(df)"
   ]
  },
  {
   "cell_type": "markdown",
   "id": "eb6ca239",
   "metadata": {
    "papermill": {
     "duration": 0.044939,
     "end_time": "2024-01-20T14:36:31.846789",
     "exception": false,
     "start_time": "2024-01-20T14:36:31.801850",
     "status": "completed"
    },
    "tags": []
   },
   "source": []
  },
  {
   "cell_type": "code",
   "execution_count": 18,
   "id": "e8c45f76",
   "metadata": {
    "execution": {
     "iopub.execute_input": "2024-01-20T14:36:31.940363Z",
     "iopub.status.busy": "2024-01-20T14:36:31.938950Z",
     "iopub.status.idle": "2024-01-20T14:36:32.367988Z",
     "shell.execute_reply": "2024-01-20T14:36:32.366777Z"
    },
    "papermill": {
     "duration": 0.479713,
     "end_time": "2024-01-20T14:36:32.371854",
     "exception": false,
     "start_time": "2024-01-20T14:36:31.892141",
     "status": "completed"
    },
    "tags": []
   },
   "outputs": [
    {
     "name": "stdout",
     "output_type": "stream",
     "text": [
      "+-------+--------------------+--------------------+--------+-----------+------------+---------+-------------+----------------+-----+--------------------+\n",
      "|predict|         weatherDesc|      weatherIconUrl|precipMM|weatherCode|precipInches|predictId|weatherDescId|weatherIconUrlId|label|            features|\n",
      "+-------+--------------------+--------------------+--------+-----------+------------+---------+-------------+----------------+-----+--------------------+\n",
      "|   rain|Patchy rain possible|[{'value': 'https...|     0.2|        176|         0.0|      1.0|          1.0|             6.0|  1.0|[1.0,1.0,6.0,176....|\n",
      "|no rain|       Partly cloudy|[{'value': 'https...|     0.0|        116|         0.0|      0.0|          0.0|             0.0|  0.0|     (5,[3],[116.0])|\n",
      "|no rain|       Partly cloudy|[{'value': 'https...|     0.0|        116|         0.0|      0.0|          0.0|             0.0|  0.0|     (5,[3],[116.0])|\n",
      "|no rain|              Cloudy|[{'value': 'https...|     0.0|        119|         0.0|      0.0|          2.0|             1.0|  0.0|[0.0,2.0,1.0,119....|\n",
      "|no rain|              Cloudy|[{'value': 'https...|     0.0|        119|         0.0|      0.0|          2.0|             1.0|  0.0|[0.0,2.0,1.0,119....|\n",
      "|   rain|Patchy rain possible|[{'value': 'https...|     0.3|        176|         0.0|      1.0|          1.0|             6.0|  3.0|[1.0,1.0,6.0,176....|\n",
      "|   rain|Patchy rain possible|[{'value': 'https...|     0.1|        176|         0.0|      1.0|          1.0|             5.0|  2.0|[1.0,1.0,5.0,176....|\n",
      "|   rain|Patchy rain possible|[{'value': 'https...|     0.1|        176|         0.0|      1.0|          1.0|             5.0|  2.0|[1.0,1.0,5.0,176....|\n",
      "|no rain|       Partly cloudy|[{'value': 'https...|     0.0|        116|         0.0|      0.0|          0.0|             3.0|  0.0|(5,[2,3],[3.0,116...|\n",
      "|no rain|       Partly cloudy|[{'value': 'https...|     0.0|        116|         0.0|      0.0|          0.0|             3.0|  0.0|(5,[2,3],[3.0,116...|\n",
      "|   rain|Patchy rain possible|[{'value': 'https...|     0.1|        176|         0.0|      1.0|          1.0|             5.0|  2.0|[1.0,1.0,5.0,176....|\n",
      "|   rain| Heavy rain at times|[{'value': 'https...|     1.3|        305|         0.0|      1.0|          8.0|             8.0| 12.0|[1.0,8.0,8.0,305....|\n",
      "|   rain|Moderate or heavy...|[{'value': 'https...|     1.7|        356|         0.1|      1.0|          6.0|             8.0| 17.0|[1.0,6.0,8.0,356....|\n",
      "|   rain|Patchy rain possible|[{'value': 'https...|     0.3|        176|         0.0|      1.0|          1.0|             5.0|  3.0|[1.0,1.0,5.0,176....|\n",
      "|   rain|Moderate or heavy...|[{'value': 'https...|     2.5|        356|         0.1|      1.0|          6.0|             8.0| 25.0|[1.0,6.0,8.0,356....|\n",
      "|   rain|Moderate or heavy...|[{'value': 'https...|     3.5|        356|         0.1|      1.0|          6.0|             8.0| 35.0|[1.0,6.0,8.0,356....|\n",
      "|   rain|Moderate rain at ...|[{'value': 'https...|     0.7|        299|         0.0|      1.0|          7.0|             8.0|  7.0|[1.0,7.0,8.0,299....|\n",
      "|   rain|Moderate or heavy...|[{'value': 'https...|     1.7|        356|         0.1|      1.0|          6.0|             8.0| 17.0|[1.0,6.0,8.0,356....|\n",
      "|   rain|Moderate or heavy...|[{'value': 'https...|     2.8|        356|         0.1|      1.0|          6.0|             7.0| 31.0|[1.0,6.0,7.0,356....|\n",
      "|   rain|Moderate or heavy...|[{'value': 'https...|     1.5|        356|         0.1|      1.0|          6.0|             7.0| 14.0|[1.0,6.0,7.0,356....|\n",
      "+-------+--------------------+--------------------+--------+-----------+------------+---------+-------------+----------------+-----+--------------------+\n",
      "only showing top 20 rows\n",
      "\n"
     ]
    }
   ],
   "source": [
    "df.show()"
   ]
  },
  {
   "cell_type": "code",
   "execution_count": 20,
   "id": "e3ebc80b",
   "metadata": {
    "execution": {
     "iopub.execute_input": "2024-01-20T14:36:32.564846Z",
     "iopub.status.busy": "2024-01-20T14:36:32.563998Z",
     "iopub.status.idle": "2024-01-20T14:36:33.320419Z",
     "shell.execute_reply": "2024-01-20T14:36:33.318799Z"
    },
    "papermill": {
     "duration": 0.805485,
     "end_time": "2024-01-20T14:36:33.323260",
     "exception": false,
     "start_time": "2024-01-20T14:36:32.517775",
     "status": "completed"
    },
    "tags": []
   },
   "outputs": [
    {
     "name": "stderr",
     "output_type": "stream",
     "text": [
      "24/01/20 14:36:32 WARN SparkStringUtils: Truncated the string representation of a plan since it was too large. This behavior can be adjusted by setting 'spark.sql.debug.maxToStringFields'.\n"
     ]
    },
    {
     "name": "stdout",
     "output_type": "stream",
     "text": [
      "+-------------------+--------+--------+--------+--------+---------------+-----------------+----+-----+-----+--------------+-------------+-------------+--------------+-----------+--------------------+------------+--------+----------+---------------+--------+--------------+----------+----------+----------+---------+---------+----------+----------+-------------+------------+----------+----------+-------+-------+--------------------+--------+\n",
      "|          date_time| sunrise|  sunset|moonrise| moonset|     moon_phase|moon_illumination|time|tempC|tempF|windspeedMiles|windspeedKmph|winddirDegree|winddir16Point|weatherCode|      weatherIconUrl|precipInches|humidity|visibility|visibilityMiles|pressure|pressureInches|cloudcover|HeatIndexC|HeatIndexF|DewPointC|DewPointF|WindChillC|WindChillF|WindGustMiles|WindGustKmph|FeelsLikeC|FeelsLikeF|uvIndex|predict|         weatherDesc|precipMM|\n",
      "+-------------------+--------+--------+--------+--------+---------------+-----------------+----+-----+-----+--------------+-------------+-------------+--------------+-----------+--------------------+------------+--------+----------+---------------+--------+--------------+----------+----------+----------+---------+---------+----------+----------+-------------+------------+----------+----------+-------+-------+--------------------+--------+\n",
      "|2008-07-01 00:00:00|05:19 AM|06:42 PM|02:55 AM|05:01 PM|Waning Crescent|                4|   0|   25|   77|             5|            8|          104|           ESE|        176|[{'value': 'https...|         0.0|      97|         9|              5|    1007|            30|        73|        28|        82|       24|       76|        25|        77|           12|          19|        28|        82|      6|   rain|Patchy rain possible|     0.2|\n",
      "|2008-07-01 05:00:00|05:19 AM|06:42 PM|02:55 AM|05:01 PM|Waning Crescent|                4|   5|   25|   77|             7|           11|          123|           ESE|        176|[{'value': 'https...|         0.0|      95|         8|              4|    1006|            30|        59|        28|        83|       24|       75|        25|        77|           11|          18|        28|        83|      6|   rain|Patchy rain possible|     0.3|\n",
      "|2008-07-01 06:00:00|05:19 AM|06:42 PM|02:55 AM|05:01 PM|Waning Crescent|                4|   6|   25|   78|             8|           13|          128|            SE|        176|[{'value': 'https...|         0.0|      94|         7|              4|    1006|            30|        58|        29|        84|       24|       75|        25|        78|           12|          20|        29|        84|      6|   rain|Patchy rain possible|     0.1|\n",
      "|2008-07-01 15:00:00|05:19 AM|06:42 PM|02:55 AM|05:01 PM|Waning Crescent|                4|  15|   28|   83|             7|           11|          149|           SSE|        356|[{'value': 'https...|         0.1|      88|         7|              4|    1004|            30|        74|        35|        95|       26|       79|        28|        83|           16|          26|        35|        95|      6|   rain|Moderate or heavy...|     3.5|\n",
      "|2008-07-01 16:00:00|05:19 AM|06:42 PM|02:55 AM|05:01 PM|Waning Crescent|                4|  16|   28|   82|             7|           11|          140|            SE|        299|[{'value': 'https...|         0.0|      91|         6|              3|    1005|            30|        77|        34|        94|       26|       79|        28|        82|           13|          20|        34|        94|      6|   rain|Moderate rain at ...|     0.7|\n",
      "|2008-07-01 18:00:00|05:19 AM|06:42 PM|02:55 AM|05:01 PM|Waning Crescent|                4|  18|   27|   81|             6|           10|          122|           ESE|        356|[{'value': 'https...|         0.1|      96|         3|              1|    1005|            30|        81|        33|        91|       27|       80|        27|        81|           11|          17|        33|        91|      6|   rain|Moderate or heavy...|     2.8|\n",
      "|2008-07-01 23:00:00|05:19 AM|06:42 PM|02:55 AM|05:01 PM|Waning Crescent|                4|  23|   25|   77|             5|            8|          121|           ESE|        176|[{'value': 'https...|         0.0|      97|         8|              4|    1008|            30|        78|        28|        83|       24|       76|        25|        77|           12|          19|        28|        83|      6|   rain|Patchy rain possible|     0.1|\n",
      "|2008-07-02 04:00:00|05:19 AM|06:42 PM|03:59 AM|06:07 PM|       New Moon|                0|   4|   24|   75|             4|            7|          118|           ESE|        176|[{'value': 'https...|         0.0|      96|         9|              5|    1007|            30|        83|        27|        80|       23|       74|        24|        75|            7|          12|        27|        80|      6|   rain|Patchy rain possible|     0.2|\n",
      "|2008-07-02 08:00:00|05:19 AM|06:42 PM|03:59 AM|06:07 PM|       New Moon|                0|   8|   26|   80|             6|            9|          147|           SSE|        176|[{'value': 'https...|         0.0|      90|         8|              4|    1007|            30|        62|        31|        87|       25|       76|        26|        80|            9|          15|        31|        87|      6|   rain|Patchy rain possible|     0.3|\n",
      "|2008-07-02 14:00:00|05:19 AM|06:42 PM|03:59 AM|06:07 PM|       New Moon|                0|  14|   29|   84|             6|            9|          156|           SSE|        305|[{'value': 'https...|         0.1|      88|         6|              3|    1005|            30|        72|        36|        96|       26|       80|        29|        84|           14|          22|        36|        96|      6|   rain| Heavy rain at times|     1.4|\n",
      "|2008-07-02 15:00:00|05:19 AM|06:42 PM|03:59 AM|06:07 PM|       New Moon|                0|  15|   29|   83|             6|           10|          159|           SSE|        356|[{'value': 'https...|         0.1|      88|         7|              4|    1005|            30|        83|        35|        96|       27|       80|        29|        83|           14|          22|        35|        96|      6|   rain|Moderate or heavy...|     2.6|\n",
      "|2008-07-02 18:00:00|05:19 AM|06:42 PM|03:59 AM|06:07 PM|       New Moon|                0|  18|   28|   82|             7|           12|          133|            SE|        356|[{'value': 'https...|         0.1|      96|         7|              4|    1006|            30|        82|        34|        93|       27|       81|        28|        82|           13|          21|        34|        93|      6|   rain|Moderate or heavy...|     1.6|\n",
      "|2008-07-02 22:00:00|05:19 AM|06:42 PM|03:59 AM|06:07 PM|       New Moon|                0|  22|   26|   79|             6|            9|          133|            SE|        299|[{'value': 'https...|         0.0|      97|        10|              6|    1008|            30|        80|        30|        87|       26|       78|        26|        79|           10|          16|        30|        87|      6|   rain|Moderate rain at ...|     0.7|\n",
      "|2008-07-03 11:00:00|05:20 AM|06:42 PM|05:08 AM|07:08 PM|       New Moon|                0|  11|   29|   85|             6|           10|          164|           SSE|        356|[{'value': 'https...|         0.1|      87|         4|              2|    1007|            30|        89|        36|        97|       26|       79|        29|        85|           13|          20|        36|        97|      7|   rain|Moderate or heavy...|     2.1|\n",
      "|2008-07-03 12:00:00|05:20 AM|06:42 PM|05:08 AM|07:08 PM|       New Moon|                0|  12|   30|   86|             6|            9|          167|           SSE|        356|[{'value': 'https...|         0.1|      86|         3|              1|    1006|            30|        76|        37|        98|       26|       79|        30|        86|           11|          18|        37|        98|      7|   rain|Moderate or heavy...|     2.7|\n",
      "|2008-07-03 13:00:00|05:20 AM|06:42 PM|05:08 AM|07:08 PM|       New Moon|                0|  13|   29|   85|             6|            9|          163|           SSE|        305|[{'value': 'https...|         0.1|      87|         4|              2|    1006|            30|        79|        37|        98|       26|       79|        29|        85|           12|          19|        37|        98|      7|   rain| Heavy rain at times|     1.3|\n",
      "|2008-07-03 14:00:00|05:20 AM|06:42 PM|05:08 AM|07:08 PM|       New Moon|                0|  14|   29|   85|             6|            9|          159|           SSE|        305|[{'value': 'https...|         0.0|      87|         6|              3|    1006|            30|        86|        37|        98|       27|       80|        29|        85|           12|          19|        37|        98|      7|   rain| Heavy rain at times|     1.0|\n",
      "|2008-07-03 15:00:00|05:20 AM|06:42 PM|05:08 AM|07:08 PM|       New Moon|                0|  15|   29|   84|             6|            9|          155|           SSE|        305|[{'value': 'https...|         0.0|      88|         7|              4|    1005|            30|        77|        36|        97|       27|       80|        29|        84|           11|          17|        36|        97|      7|   rain| Heavy rain at times|     1.2|\n",
      "|2008-07-03 22:00:00|05:20 AM|06:42 PM|05:08 AM|07:08 PM|       New Moon|                0|  22|   26|   78|             5|            9|          130|            SE|        116|[{'value': 'https...|         0.0|      97|         9|              5|    1009|            30|        48|        30|        85|       25|       77|        26|        78|            9|          15|        30|        85|      7|no rain|       Partly cloudy|     0.0|\n",
      "|2008-07-03 23:00:00|05:20 AM|06:42 PM|05:08 AM|07:08 PM|       New Moon|                0|  23|   25|   77|             5|            9|          129|            SE|        116|[{'value': 'https...|         0.0|      98|         8|              4|    1009|            30|        53|        29|        84|       25|       77|        25|        77|           10|          16|        29|        84|      7|no rain|       Partly cloudy|     0.0|\n",
      "+-------------------+--------+--------+--------+--------+---------------+-----------------+----+-----+-----+--------------+-------------+-------------+--------------+-----------+--------------------+------------+--------+----------+---------------+--------+--------------+----------+----------+----------+---------+---------+----------+----------+-------------+------------+----------+----------+-------+-------+--------------------+--------+\n",
      "only showing top 20 rows\n",
      "\n"
     ]
    },
    {
     "name": "stderr",
     "output_type": "stream",
     "text": [
      "                                                                                \r"
     ]
    }
   ],
   "source": [
    "test_data.show()"
   ]
  },
  {
   "cell_type": "code",
   "execution_count": 21,
   "id": "33cd3f7b",
   "metadata": {
    "execution": {
     "iopub.execute_input": "2024-01-20T14:36:33.420954Z",
     "iopub.status.busy": "2024-01-20T14:36:33.420552Z",
     "iopub.status.idle": "2024-01-20T14:36:33.538051Z",
     "shell.execute_reply": "2024-01-20T14:36:33.536896Z"
    },
    "papermill": {
     "duration": 0.169157,
     "end_time": "2024-01-20T14:36:33.540996",
     "exception": false,
     "start_time": "2024-01-20T14:36:33.371839",
     "status": "completed"
    },
    "tags": []
   },
   "outputs": [],
   "source": [
    "# Initialize classifiers\n",
    "# Khởi tạo hai mô hình phân loại: Random Forest và Logistic Regression.\n",
    "rf = RandomForestClassifier(labelCol='label', featuresCol='features')\n",
    "lr = LogisticRegression(labelCol='label', featuresCol='features')"
   ]
  },
  {
   "cell_type": "code",
   "execution_count": 22,
   "id": "6ccef9b5",
   "metadata": {
    "execution": {
     "iopub.execute_input": "2024-01-20T14:36:33.638608Z",
     "iopub.status.busy": "2024-01-20T14:36:33.638134Z",
     "iopub.status.idle": "2024-01-20T14:36:33.644918Z",
     "shell.execute_reply": "2024-01-20T14:36:33.643965Z"
    },
    "papermill": {
     "duration": 0.061005,
     "end_time": "2024-01-20T14:36:33.647408",
     "exception": false,
     "start_time": "2024-01-20T14:36:33.586403",
     "status": "completed"
    },
    "tags": []
   },
   "outputs": [],
   "source": [
    "# Initialize pipeline\n",
    "# Xây dựng pipeline cho mỗi mô hình để huấn luyện trên dữ liệu.\n",
    "pipeline_rf = Pipeline(stages=[predictStringIndexer, weatherDescStringIndexer, weatherIconUrlStringIndexer, precipMMStringIndexer, assembler, rf])\n",
    "pipeline_lr = Pipeline(stages=[predictStringIndexer, weatherDescStringIndexer, weatherIconUrlStringIndexer, precipMMStringIndexer, assembler, lr])"
   ]
  },
  {
   "cell_type": "code",
   "execution_count": 23,
   "id": "abd20784",
   "metadata": {
    "execution": {
     "iopub.execute_input": "2024-01-20T14:36:33.744523Z",
     "iopub.status.busy": "2024-01-20T14:36:33.743643Z",
     "iopub.status.idle": "2024-01-20T14:38:04.330103Z",
     "shell.execute_reply": "2024-01-20T14:38:04.328855Z"
    },
    "papermill": {
     "duration": 90.639654,
     "end_time": "2024-01-20T14:38:04.333717",
     "exception": false,
     "start_time": "2024-01-20T14:36:33.694063",
     "status": "completed"
    },
    "tags": []
   },
   "outputs": [
    {
     "name": "stderr",
     "output_type": "stream",
     "text": [
      "24/01/20 14:36:48 WARN InstanceBuilder: Failed to load implementation from:dev.ludovic.netlib.blas.JNIBLAS\n",
      "                                                                                \r"
     ]
    }
   ],
   "source": [
    "# Fit the models\n",
    "# Huấn luyện 2 mô hình\n",
    "model_rf = pipeline_rf.fit(train_data)\n",
    "model_lr = pipeline_lr.fit(train_data)"
   ]
  },
  {
   "cell_type": "code",
   "execution_count": 24,
   "id": "d3413d95",
   "metadata": {
    "execution": {
     "iopub.execute_input": "2024-01-20T14:38:04.457347Z",
     "iopub.status.busy": "2024-01-20T14:38:04.456947Z",
     "iopub.status.idle": "2024-01-20T14:38:06.417430Z",
     "shell.execute_reply": "2024-01-20T14:38:06.415856Z"
    },
    "papermill": {
     "duration": 2.021071,
     "end_time": "2024-01-20T14:38:06.421284",
     "exception": false,
     "start_time": "2024-01-20T14:38:04.400213",
     "status": "completed"
    },
    "tags": []
   },
   "outputs": [],
   "source": [
    "# Save the Random Forest model\n",
    "model_rf.save(\"/kaggle/working/random_forest_model\")"
   ]
  },
  {
   "cell_type": "code",
   "execution_count": 25,
   "id": "4201c39c",
   "metadata": {
    "execution": {
     "iopub.execute_input": "2024-01-20T14:38:06.580711Z",
     "iopub.status.busy": "2024-01-20T14:38:06.580038Z",
     "iopub.status.idle": "2024-01-20T14:38:07.886980Z",
     "shell.execute_reply": "2024-01-20T14:38:07.885780Z"
    },
    "papermill": {
     "duration": 1.389774,
     "end_time": "2024-01-20T14:38:07.890603",
     "exception": false,
     "start_time": "2024-01-20T14:38:06.500829",
     "status": "completed"
    },
    "tags": []
   },
   "outputs": [],
   "source": [
    "# Save the Logistic Regression model\n",
    "model_lr.save(\"/kaggle/working/logistic_regression_model\")"
   ]
  },
  {
   "cell_type": "code",
   "execution_count": 26,
   "id": "5fddb5d8",
   "metadata": {
    "execution": {
     "iopub.execute_input": "2024-01-20T14:38:08.047711Z",
     "iopub.status.busy": "2024-01-20T14:38:08.047109Z",
     "iopub.status.idle": "2024-01-20T14:38:08.423072Z",
     "shell.execute_reply": "2024-01-20T14:38:08.421907Z"
    },
    "papermill": {
     "duration": 0.459323,
     "end_time": "2024-01-20T14:38:08.426728",
     "exception": false,
     "start_time": "2024-01-20T14:38:07.967405",
     "status": "completed"
    },
    "tags": []
   },
   "outputs": [],
   "source": [
    "# Make predictions\n",
    "# Dự đoán trên một tập test\n",
    "predictions_rf = model_rf.transform(test_data)\n",
    "predictions_lr = model_lr.transform(test_data)"
   ]
  },
  {
   "cell_type": "code",
   "execution_count": 27,
   "id": "a089f43a",
   "metadata": {
    "execution": {
     "iopub.execute_input": "2024-01-20T14:38:08.549337Z",
     "iopub.status.busy": "2024-01-20T14:38:08.548875Z",
     "iopub.status.idle": "2024-01-20T14:38:25.536331Z",
     "shell.execute_reply": "2024-01-20T14:38:25.535174Z"
    },
    "papermill": {
     "duration": 17.045408,
     "end_time": "2024-01-20T14:38:25.539579",
     "exception": false,
     "start_time": "2024-01-20T14:38:08.494171",
     "status": "completed"
    },
    "tags": []
   },
   "outputs": [
    {
     "name": "stderr",
     "output_type": "stream",
     "text": [
      "                                                                                \r"
     ]
    },
    {
     "name": "stdout",
     "output_type": "stream",
     "text": [
      "  Metric  Random Forest  Logistic Regression\n",
      "0    MAE       1.191145             0.753184\n",
      "1  MedAE       0.000000             0.000000\n",
      "2    RAE       0.437968             0.276936\n",
      "3   RMSE       6.260230             2.691396\n",
      "4     R²       0.515845             0.910513\n"
     ]
    },
    {
     "name": "stderr",
     "output_type": "stream",
     "text": [
      "                                                                                \r"
     ]
    }
   ],
   "source": [
    "from pyspark.sql import SparkSession\n",
    "import pandas as pd\n",
    "from pyspark.ml.evaluation import RegressionEvaluator\n",
    "from pyspark.sql.functions import col, expr, pow, sqrt, avg, abs\n",
    "\n",
    "# Assuming you have already defined model_rf and model_lr\n",
    "\n",
    "# Make predictions\n",
    "predictions_rf = model_rf.transform(test_data)\n",
    "predictions_lr = model_lr.transform(test_data)\n",
    "\n",
    "# Calculate the absolute errors\n",
    "predictions_rf = predictions_rf.withColumn(\"absolute_error\", abs(col(\"prediction\") - col(\"label\")))\n",
    "predictions_lr = predictions_lr.withColumn(\"absolute_error\", abs(col(\"prediction\") - col(\"label\")))\n",
    "\n",
    "# Calculate Mean Absolute Error (MAE)\n",
    "mae_rf = predictions_rf.select(avg(\"absolute_error\")).first()[0]\n",
    "mae_lr = predictions_lr.select(avg(\"absolute_error\")).first()[0]\n",
    "\n",
    "# Calculate Median Absolute Error (MedAE)\n",
    "medae_rf = predictions_rf.select(expr('percentile(absolute_error, 0.5)').alias('medae')).first()['medae']\n",
    "medae_lr = predictions_lr.select(expr('percentile(absolute_error, 0.5)').alias('medae')).first()['medae']\n",
    "\n",
    "# Calculate Relative Absolute Error (RAE)\n",
    "mean_label = predictions_rf.agg(avg(col(\"label\"))).first()[0]\n",
    "rae_rf = predictions_rf.agg(avg(col(\"absolute_error\") / mean_label)).first()[0]\n",
    "rae_lr = predictions_lr.agg(avg(col(\"absolute_error\") / mean_label)).first()[0]\n",
    "\n",
    "# Calculate Root Mean Square Error (RMSE)\n",
    "rmse_rf = predictions_rf.agg(sqrt(avg(pow(col(\"absolute_error\"), 2)))).first()[0]\n",
    "rmse_lr = predictions_lr.agg(sqrt(avg(pow(col(\"absolute_error\"), 2)))).first()[0]\n",
    "\n",
    "# Calculate R-squared (R²)\n",
    "evaluator = RegressionEvaluator(labelCol=\"label\", predictionCol=\"prediction\", metricName=\"r2\")\n",
    "r2_rf = evaluator.evaluate(predictions_rf)\n",
    "r2_lr = evaluator.evaluate(predictions_lr)\n",
    "\n",
    "# Convert results to Pandas DataFrame for better visualization\n",
    "results_data = {\n",
    "    'Metric': ['MAE', 'MedAE', 'RAE', 'RMSE', 'R²'],\n",
    "    'Random Forest': [mae_rf, medae_rf, rae_rf, rmse_rf, r2_rf],\n",
    "    'Logistic Regression': [mae_lr, medae_lr, rae_lr, rmse_lr, r2_lr]\n",
    "}\n",
    "\n",
    "results_df = pd.DataFrame(results_data)\n",
    "\n",
    "# Print the Pandas DataFrame\n",
    "print(results_df)\n"
   ]
  },
  {
   "cell_type": "code",
   "execution_count": 28,
   "id": "b7da8c30",
   "metadata": {
    "execution": {
     "iopub.execute_input": "2024-01-20T14:38:25.875387Z",
     "iopub.status.busy": "2024-01-20T14:38:25.874932Z",
     "iopub.status.idle": "2024-01-20T14:38:25.879690Z",
     "shell.execute_reply": "2024-01-20T14:38:25.878743Z"
    },
    "papermill": {
     "duration": 0.074131,
     "end_time": "2024-01-20T14:38:25.881830",
     "exception": false,
     "start_time": "2024-01-20T14:38:25.807699",
     "status": "completed"
    },
    "tags": []
   },
   "outputs": [],
   "source": [
    "# Stop the Spark session\n",
    "spark.stop()"
   ]
  }
 ],
 "metadata": {
  "kaggle": {
   "accelerator": "none",
   "dataSources": [
    {
     "datasetId": 4302724,
     "sourceId": 7399893,
     "sourceType": "datasetVersion"
    }
   ],
   "dockerImageVersionId": 30635,
   "isGpuEnabled": false,
   "isInternetEnabled": true,
   "language": "python",
   "sourceType": "notebook"
  },
  "kernelspec": {
   "display_name": "Python 3",
   "language": "python",
   "name": "python3"
  },
  "language_info": {
   "codemirror_mode": {
    "name": "ipython",
    "version": 3
   },
   "file_extension": ".py",
   "mimetype": "text/x-python",
   "name": "python",
   "nbconvert_exporter": "python",
   "pygments_lexer": "ipython3",
   "version": "3.10.12"
  },
  "papermill": {
   "default_parameters": {},
   "duration": 461.834725,
   "end_time": "2024-01-20T14:38:28.563966",
   "environment_variables": {},
   "exception": null,
   "input_path": "__notebook__.ipynb",
   "output_path": "__notebook__.ipynb",
   "parameters": {},
   "start_time": "2024-01-20T14:30:46.729241",
   "version": "2.4.0"
  }
 },
 "nbformat": 4,
 "nbformat_minor": 5
}
