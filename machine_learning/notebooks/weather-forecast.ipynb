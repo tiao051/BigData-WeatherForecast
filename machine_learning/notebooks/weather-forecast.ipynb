{
 "cells": [
  {
   "cell_type": "code",
   "execution_count": 1,
   "metadata": {
    "_cell_guid": "b1076dfc-b9ad-4769-8c92-a6c4dae69d19",
    "_uuid": "8f2839f25d086af736a60e9eeb907d3b93b6e0e5",
    "execution": {
     "iopub.execute_input": "2024-01-21T13:53:44.879798Z",
     "iopub.status.busy": "2024-01-21T13:53:44.879011Z",
     "iopub.status.idle": "2024-01-21T13:53:45.277287Z",
     "shell.execute_reply": "2024-01-21T13:53:45.276212Z",
     "shell.execute_reply.started": "2024-01-21T13:53:44.879761Z"
    },
    "trusted": true
   },
   "outputs": [
    {
     "name": "stdout",
     "output_type": "stream",
     "text": [
      "/kaggle/input/weather-dataset2/weather_dataset.csv\n"
     ]
    }
   ],
   "source": [
    "# This Python 3 environment comes with many helpful analytics libraries installed\n",
    "# It is defined by the kaggle/python Docker image: https://github.com/kaggle/docker-python\n",
    "# For example, here's several helpful packages to load\n",
    "\n",
    "import numpy as np # linear algebra\n",
    "import pandas as pd # data processing, CSV file I/O (e.g. pd.read_csv)\n",
    "\n",
    "# Input data files are available in the read-only \"../input/\" directory\n",
    "# For example, running this (by clicking run or pressing Shift+Enter) will list all files under the input directory\n",
    "\n",
    "import os\n",
    "for dirname, _, filenames in os.walk('/kaggle/input'):\n",
    "    for filename in filenames:\n",
    "        print(os.path.join(dirname, filename))\n",
    "\n",
    "# You can write up to 20GB to the current directory (/kaggle/working/) that gets preserved as output when you create a version using \"Save & Run All\" \n",
    "# You can also write temporary files to /kaggle/temp/, but they won't be saved outside of the current session"
   ]
  },
  {
   "cell_type": "code",
   "execution_count": 2,
   "metadata": {
    "execution": {
     "iopub.execute_input": "2024-01-21T13:53:45.280052Z",
     "iopub.status.busy": "2024-01-21T13:53:45.279478Z",
     "iopub.status.idle": "2024-01-21T13:54:35.515401Z",
     "shell.execute_reply": "2024-01-21T13:54:35.513809Z",
     "shell.execute_reply.started": "2024-01-21T13:53:45.280010Z"
    },
    "trusted": true
   },
   "outputs": [
    {
     "name": "stdout",
     "output_type": "stream",
     "text": [
      "Collecting pyspark\n",
      "  Downloading pyspark-3.5.0.tar.gz (316.9 MB)\n",
      "\u001b[2K     \u001b[90m━━━━━━━━━━━━━━━━━━━━━━━━━━━━━━━━━━━━━━━\u001b[0m \u001b[32m316.9/316.9 MB\u001b[0m \u001b[31m3.6 MB/s\u001b[0m eta \u001b[36m0:00:00\u001b[0m00:01\u001b[0m00:01\u001b[0m\n",
      "\u001b[?25h  Preparing metadata (setup.py) ... \u001b[?25ldone\n",
      "\u001b[?25hRequirement already satisfied: py4j==0.10.9.7 in /opt/conda/lib/python3.10/site-packages (from pyspark) (0.10.9.7)\n",
      "Building wheels for collected packages: pyspark\n",
      "  Building wheel for pyspark (setup.py) ... \u001b[?25ldone\n",
      "\u001b[?25h  Created wheel for pyspark: filename=pyspark-3.5.0-py2.py3-none-any.whl size=317425344 sha256=a355a854150f52e68cda33076b70d2dcb6c156ddd32f37a1f1df6d5b739a2564\n",
      "  Stored in directory: /root/.cache/pip/wheels/41/4e/10/c2cf2467f71c678cfc8a6b9ac9241e5e44a01940da8fbb17fc\n",
      "Successfully built pyspark\n",
      "Installing collected packages: pyspark\n",
      "Successfully installed pyspark-3.5.0\n"
     ]
    }
   ],
   "source": [
    "!pip install pyspark"
   ]
  },
  {
   "cell_type": "code",
   "execution_count": 3,
   "metadata": {
    "execution": {
     "iopub.execute_input": "2024-01-21T13:54:35.517749Z",
     "iopub.status.busy": "2024-01-21T13:54:35.517270Z",
     "iopub.status.idle": "2024-01-21T13:54:51.244107Z",
     "shell.execute_reply": "2024-01-21T13:54:51.243004Z",
     "shell.execute_reply.started": "2024-01-21T13:54:35.517699Z"
    },
    "trusted": true
   },
   "outputs": [
    {
     "name": "stderr",
     "output_type": "stream",
     "text": [
      "Setting default log level to \"WARN\".\n",
      "To adjust logging level use sc.setLogLevel(newLevel). For SparkR, use setLogLevel(newLevel).\n",
      "24/01/21 13:54:39 WARN NativeCodeLoader: Unable to load native-hadoop library for your platform... using builtin-java classes where applicable\n",
      "                                                                                \r"
     ]
    }
   ],
   "source": [
    "from pyspark.sql import SparkSession\n",
    "from pyspark.ml import Pipeline\n",
    "from pyspark.ml.feature import StringIndexer, VectorAssembler\n",
    "from pyspark.ml.classification import RandomForestClassifier, LogisticRegression\n",
    "from pyspark.ml.evaluation import MulticlassClassificationEvaluator\n",
    "from pyspark.ml.classification import RandomForestClassificationModel\n",
    "import os\n",
    "\n",
    "# Initialize Spark Session\n",
    "spark = SparkSession.builder.appName('weather_prediction').getOrCreate()\n",
    "\n",
    "# Load the dataset\n",
    "file_path = '/kaggle/input/weather-dataset/weather_dataset.csv'\n",
    "df = spark.read.csv(file_path, header=True, inferSchema=True)"
   ]
  },
  {
   "cell_type": "code",
   "execution_count": 4,
   "metadata": {
    "execution": {
     "iopub.execute_input": "2024-01-21T13:54:51.250457Z",
     "iopub.status.busy": "2024-01-21T13:54:51.246402Z",
     "iopub.status.idle": "2024-01-21T13:54:51.298784Z",
     "shell.execute_reply": "2024-01-21T13:54:51.297534Z",
     "shell.execute_reply.started": "2024-01-21T13:54:51.250416Z"
    },
    "trusted": true
   },
   "outputs": [],
   "source": [
    "# Split the data into training and test sets\n",
    "# Chia bộ dữ liệu thành hai phần: dữ liệu huấn luyện và dữ liệu kiểm thử.\n",
    "train_data, test_data = df.randomSplit([0.8, 0.2])"
   ]
  },
  {
   "cell_type": "code",
   "execution_count": 5,
   "metadata": {
    "execution": {
     "iopub.execute_input": "2024-01-21T13:54:51.300469Z",
     "iopub.status.busy": "2024-01-21T13:54:51.299988Z",
     "iopub.status.idle": "2024-01-21T13:54:51.503539Z",
     "shell.execute_reply": "2024-01-21T13:54:51.502731Z",
     "shell.execute_reply.started": "2024-01-21T13:54:51.300428Z"
    },
    "trusted": true
   },
   "outputs": [],
   "source": [
    "# Selecting relevant columns and dropping rows with missing values\n",
    "# Chọn ra các cột dữ liệu và loại bỏ những hàng có giá trị thiếu.\n",
    "selected_columns = ['sunrise','sunset','moonrise','moonset','moon_phase','moon_illumination','time','tempC','tempF','windspeedMiles','windspeedKmph','winddirDegree','winddir16Point','precipInches','humidity','visibility','visibilityMiles','pressure','pressureInches','cloudcover','HeatIndexC','HeatIndexF','DewPointC','DewPointC','WindChillC','WindChillF','WindGustMiles','WindGustKmph','FeelsLikeC','FeelsLikeF','uvIndex', 'predict']\n",
    "df = df.select(selected_columns).na.drop()"
   ]
  },
  {
   "cell_type": "code",
   "execution_count": 6,
   "metadata": {
    "execution": {
     "iopub.execute_input": "2024-01-21T13:54:51.504742Z",
     "iopub.status.busy": "2024-01-21T13:54:51.504443Z",
     "iopub.status.idle": "2024-01-21T13:54:56.531350Z",
     "shell.execute_reply": "2024-01-21T13:54:56.530132Z",
     "shell.execute_reply.started": "2024-01-21T13:54:51.504717Z"
    },
    "trusted": true
   },
   "outputs": [
    {
     "name": "stderr",
     "output_type": "stream",
     "text": [
      "24/01/21 13:54:51 WARN SparkStringUtils: Truncated the string representation of a plan since it was too large. This behavior can be adjusted by setting 'spark.sql.debug.maxToStringFields'.\n",
      "                                                                                \r"
     ]
    }
   ],
   "source": [
    "# Indexing the label column\n",
    "indexer = StringIndexer(inputCol='predict', outputCol='label')\n",
    "predictStringIndexer = indexer.fit(df)\n",
    "df = predictStringIndexer.transform(df)"
   ]
  },
  {
   "cell_type": "code",
   "execution_count": 7,
   "metadata": {
    "execution": {
     "iopub.execute_input": "2024-01-21T13:54:56.533078Z",
     "iopub.status.busy": "2024-01-21T13:54:56.532637Z",
     "iopub.status.idle": "2024-01-21T13:55:06.190402Z",
     "shell.execute_reply": "2024-01-21T13:55:06.189240Z",
     "shell.execute_reply.started": "2024-01-21T13:54:56.533037Z"
    },
    "trusted": true
   },
   "outputs": [
    {
     "name": "stderr",
     "output_type": "stream",
     "text": [
      "                                                                                \r"
     ]
    }
   ],
   "source": [
    "indexer = StringIndexer(inputCol='sunrise', outputCol='sunriseIndex')\n",
    "sunriseIndexIndexer = indexer.fit(df)\n",
    "df = sunriseIndexIndexer.transform(df)\n",
    "\n",
    "indexer = StringIndexer(inputCol='sunset', outputCol='sunsetIndex')\n",
    "sunsetStringIndexer = indexer.fit(df)\n",
    "df = sunsetStringIndexer.transform(df)\n",
    "\n",
    "indexer = StringIndexer(inputCol='moonrise', outputCol='moonriseIndex')\n",
    "moonriseStringIndexer = indexer.fit(df)\n",
    "df = moonriseStringIndexer.transform(df)\n",
    "\n",
    "indexer = StringIndexer(inputCol='moonset', outputCol='moonsetIndex')\n",
    "moonsetStringIndexer = indexer.fit(df)\n",
    "df = moonsetStringIndexer.transform(df)\n",
    "\n",
    "indexer = StringIndexer(inputCol='moon_phase', outputCol='moon_phaseIndex')\n",
    "moon_phaseStringIndexer = indexer.fit(df)\n",
    "df = moon_phaseStringIndexer.transform(df)\n",
    "\n",
    "indexer = StringIndexer(inputCol='winddir16Point', outputCol='WIndex')\n",
    "winddir16PointStringIndexer = indexer.fit(df)\n",
    "df = winddir16PointStringIndexer.transform(df)"
   ]
  },
  {
   "cell_type": "code",
   "execution_count": 8,
   "metadata": {
    "execution": {
     "iopub.execute_input": "2024-01-21T13:55:06.193091Z",
     "iopub.status.busy": "2024-01-21T13:55:06.192604Z",
     "iopub.status.idle": "2024-01-21T13:55:06.706387Z",
     "shell.execute_reply": "2024-01-21T13:55:06.705268Z",
     "shell.execute_reply.started": "2024-01-21T13:55:06.193049Z"
    },
    "trusted": true
   },
   "outputs": [
    {
     "name": "stdout",
     "output_type": "stream",
     "text": [
      "+------------+-----------+-------------+------------+---------------+------+-----+\n",
      "|sunriseIndex|sunsetIndex|moonriseIndex|moonsetIndex|moon_phaseIndex|WIndex|label|\n",
      "+------------+-----------+-------------+------------+---------------+------+-----+\n",
      "|         7.0|        0.0|       1112.0|       328.0|            5.0|   1.0|  1.0|\n",
      "|         7.0|        0.0|       1112.0|       328.0|            5.0|   1.0|  0.0|\n",
      "|         7.0|        0.0|       1112.0|       328.0|            5.0|   1.0|  0.0|\n",
      "|         7.0|        0.0|       1112.0|       328.0|            5.0|   1.0|  0.0|\n",
      "|         7.0|        0.0|       1112.0|       328.0|            5.0|   1.0|  0.0|\n",
      "|         7.0|        0.0|       1112.0|       328.0|            5.0|   1.0|  1.0|\n",
      "|         7.0|        0.0|       1112.0|       328.0|            5.0|   0.0|  1.0|\n",
      "|         7.0|        0.0|       1112.0|       328.0|            5.0|   0.0|  1.0|\n",
      "|         7.0|        0.0|       1112.0|       328.0|            5.0|   0.0|  0.0|\n",
      "|         7.0|        0.0|       1112.0|       328.0|            5.0|   2.0|  0.0|\n",
      "|         7.0|        0.0|       1112.0|       328.0|            5.0|   2.0|  1.0|\n",
      "|         7.0|        0.0|       1112.0|       328.0|            5.0|   2.0|  1.0|\n",
      "|         7.0|        0.0|       1112.0|       328.0|            5.0|   2.0|  1.0|\n",
      "|         7.0|        0.0|       1112.0|       328.0|            5.0|   2.0|  1.0|\n",
      "|         7.0|        0.0|       1112.0|       328.0|            5.0|   2.0|  1.0|\n",
      "|         7.0|        0.0|       1112.0|       328.0|            5.0|   2.0|  1.0|\n",
      "|         7.0|        0.0|       1112.0|       328.0|            5.0|   0.0|  1.0|\n",
      "|         7.0|        0.0|       1112.0|       328.0|            5.0|   0.0|  1.0|\n",
      "|         7.0|        0.0|       1112.0|       328.0|            5.0|   1.0|  1.0|\n",
      "|         7.0|        0.0|       1112.0|       328.0|            5.0|   0.0|  1.0|\n",
      "+------------+-----------+-------------+------------+---------------+------+-----+\n",
      "only showing top 20 rows\n",
      "\n"
     ]
    }
   ],
   "source": [
    "df.select('sunriseIndex', 'sunsetIndex','moonriseIndex','moonsetIndex','moon_phaseIndex','WIndex','label' ).show()"
   ]
  },
  {
   "cell_type": "code",
   "execution_count": 10,
   "metadata": {
    "execution": {
     "iopub.execute_input": "2024-01-21T13:55:06.719055Z",
     "iopub.status.busy": "2024-01-21T13:55:06.718062Z",
     "iopub.status.idle": "2024-01-21T13:55:06.842897Z",
     "shell.execute_reply": "2024-01-21T13:55:06.841919Z",
     "shell.execute_reply.started": "2024-01-21T13:55:06.719013Z"
    },
    "trusted": true
   },
   "outputs": [],
   "source": [
    "# Assembling the features\n",
    "assembler = VectorAssembler(inputCols=['sunriseIndex','sunsetIndex','moonriseIndex','moonsetIndex','moon_phaseIndex','moon_illumination','time','tempC','tempF','windspeedMiles','windspeedKmph','winddirDegree','WIndex','precipInches','humidity','visibility','visibilityMiles','pressure','pressureInches','cloudcover','HeatIndexC','HeatIndexF','DewPointC','DewPointC','WindChillC','WindChillF','WindGustMiles','WindGustKmph','FeelsLikeC','FeelsLikeF','uvIndex'], outputCol='features')\n",
    "df = assembler.transform(df)"
   ]
  },
  {
   "cell_type": "code",
   "execution_count": 12,
   "metadata": {
    "execution": {
     "iopub.execute_input": "2024-01-21T13:55:06.856975Z",
     "iopub.status.busy": "2024-01-21T13:55:06.856206Z",
     "iopub.status.idle": "2024-01-21T13:55:06.952195Z",
     "shell.execute_reply": "2024-01-21T13:55:06.951316Z",
     "shell.execute_reply.started": "2024-01-21T13:55:06.856934Z"
    },
    "trusted": true
   },
   "outputs": [],
   "source": [
    "# Initialize classifiers\n",
    "# Khởi tạo hai mô hình phân loại: Random Forest và Logistic Regression.\n",
    "rf = RandomForestClassifier(labelCol='label', featuresCol='features', maxBins=1500)\n",
    "lr = LogisticRegression(labelCol='label', featuresCol='features')"
   ]
  },
  {
   "cell_type": "code",
   "execution_count": 13,
   "metadata": {
    "execution": {
     "iopub.execute_input": "2024-01-21T13:55:06.953360Z",
     "iopub.status.busy": "2024-01-21T13:55:06.953075Z",
     "iopub.status.idle": "2024-01-21T13:55:06.959389Z",
     "shell.execute_reply": "2024-01-21T13:55:06.958649Z",
     "shell.execute_reply.started": "2024-01-21T13:55:06.953336Z"
    },
    "trusted": true
   },
   "outputs": [],
   "source": [
    "# Initialize pipeline\n",
    "# Xây dựng pipeline cho mỗi mô hình để huấn luyện trên dữ liệu.\n",
    "pipeline_rf = Pipeline(stages=[predictStringIndexer, sunriseIndexIndexer, sunsetStringIndexer, moonriseStringIndexer, moonsetStringIndexer, moon_phaseStringIndexer, winddir16PointStringIndexer, assembler, rf])\n",
    "pipeline_lr = Pipeline(stages=[predictStringIndexer, sunriseIndexIndexer, sunsetStringIndexer, moonriseStringIndexer, moonsetStringIndexer, moon_phaseStringIndexer, winddir16PointStringIndexer, assembler, lr])"
   ]
  },
  {
   "cell_type": "code",
   "execution_count": null,
   "metadata": {
    "execution": {
     "iopub.execute_input": "2024-01-21T13:55:06.961193Z",
     "iopub.status.busy": "2024-01-21T13:55:06.960645Z",
     "iopub.status.idle": "2024-01-21T13:55:36.744383Z",
     "shell.execute_reply": "2024-01-21T13:55:36.742658Z",
     "shell.execute_reply.started": "2024-01-21T13:55:06.961165Z"
    },
    "trusted": true
   },
   "outputs": [],
   "source": [
    "# Fit the models\n",
    "# Huấn luyện 2 mô hình\n",
    "model_rf = pipeline_rf.fit(train_data)\n",
    "model_lr = pipeline_lr.fit(train_data)"
   ]
  },
  {
   "cell_type": "code",
   "execution_count": 15,
   "metadata": {
    "execution": {
     "iopub.execute_input": "2024-01-21T13:55:36.747512Z",
     "iopub.status.busy": "2024-01-21T13:55:36.747052Z",
     "iopub.status.idle": "2024-01-21T13:55:39.486074Z",
     "shell.execute_reply": "2024-01-21T13:55:39.484736Z",
     "shell.execute_reply.started": "2024-01-21T13:55:36.747471Z"
    },
    "trusted": true
   },
   "outputs": [],
   "source": [
    "# Save the Random Forest model\n",
    "model_rf.save(\"/kaggle/working/random_forest_model\")"
   ]
  },
  {
   "cell_type": "code",
   "execution_count": 16,
   "metadata": {
    "execution": {
     "iopub.execute_input": "2024-01-21T13:55:39.490125Z",
     "iopub.status.busy": "2024-01-21T13:55:39.489643Z",
     "iopub.status.idle": "2024-01-21T13:55:41.531274Z",
     "shell.execute_reply": "2024-01-21T13:55:41.529975Z",
     "shell.execute_reply.started": "2024-01-21T13:55:39.490087Z"
    },
    "trusted": true
   },
   "outputs": [],
   "source": [
    "# Save the Logistic Regression model\n",
    "model_lr.save(\"/kaggle/working/logistic_regression_model\")"
   ]
  },
  {
   "cell_type": "code",
   "execution_count": 17,
   "metadata": {
    "execution": {
     "iopub.execute_input": "2024-01-21T13:55:41.533603Z",
     "iopub.status.busy": "2024-01-21T13:55:41.533171Z",
     "iopub.status.idle": "2024-01-21T13:55:42.103843Z",
     "shell.execute_reply": "2024-01-21T13:55:42.102873Z",
     "shell.execute_reply.started": "2024-01-21T13:55:41.533562Z"
    },
    "trusted": true
   },
   "outputs": [],
   "source": [
    "# Make predictions\n",
    "# Dự đoán trên một tập test\n",
    "predictions_rf = model_rf.transform(test_data)\n",
    "predictions_lr = model_lr.transform(test_data)"
   ]
  },
  {
   "cell_type": "code",
   "execution_count": 18,
   "metadata": {
    "execution": {
     "iopub.execute_input": "2024-01-21T13:55:42.105853Z",
     "iopub.status.busy": "2024-01-21T13:55:42.105365Z",
     "iopub.status.idle": "2024-01-21T13:55:42.879907Z",
     "shell.execute_reply": "2024-01-21T13:55:42.878735Z",
     "shell.execute_reply.started": "2024-01-21T13:55:42.105813Z"
    },
    "trusted": true
   },
   "outputs": [
    {
     "name": "stdout",
     "output_type": "stream",
     "text": [
      "+-------+----------+--------------------+\n",
      "|predict|prediction|       rawPrediction|\n",
      "+-------+----------+--------------------+\n",
      "|no rain|       0.0|[18.0400077891604...|\n",
      "|   rain|       1.0|[9.41344602625256...|\n",
      "|no rain|       0.0|[17.8218118808155...|\n",
      "|   rain|       1.0|[2.48780644703998...|\n",
      "|   rain|       1.0|[2.02557028543309...|\n",
      "|no rain|       0.0|[12.1257311992066...|\n",
      "|no rain|       0.0|[12.1257311992066...|\n",
      "|no rain|       0.0|[12.1257311992066...|\n",
      "|no rain|       0.0|[12.1257311992066...|\n",
      "|   rain|       0.0|[10.7378993756633...|\n",
      "|   rain|       1.0|[9.33061704085989...|\n",
      "|   rain|       1.0|[2.57651140750210...|\n",
      "|no rain|       0.0|[17.2218002220025...|\n",
      "|   rain|       1.0|[7.97650992056048...|\n",
      "|no rain|       0.0|[16.8413431592400...|\n",
      "|no rain|       0.0|[17.6684719912031...|\n",
      "|no rain|       0.0|[10.3587221954229...|\n",
      "|no rain|       0.0|[10.4477746599654...|\n",
      "|no rain|       0.0|[10.3587221954229...|\n",
      "|no rain|       0.0|[17.6002231146820...|\n",
      "+-------+----------+--------------------+\n",
      "only showing top 20 rows\n",
      "\n"
     ]
    }
   ],
   "source": [
    "predictions_rf['predict','prediction', 'rawPrediction'].show()"
   ]
  },
  {
   "cell_type": "code",
   "execution_count": 20,
   "metadata": {
    "execution": {
     "iopub.execute_input": "2024-01-21T13:55:43.053834Z",
     "iopub.status.busy": "2024-01-21T13:55:43.053438Z",
     "iopub.status.idle": "2024-01-21T13:55:43.523939Z",
     "shell.execute_reply": "2024-01-21T13:55:43.522710Z",
     "shell.execute_reply.started": "2024-01-21T13:55:43.053795Z"
    },
    "trusted": true
   },
   "outputs": [
    {
     "name": "stdout",
     "output_type": "stream",
     "text": [
      "+--------+--------+--------+--------+---------------+-----------------+----+-----+-----+--------------+-------------+-------------+--------------+------------+--------+----------+---------------+--------+--------------+----------+----------+----------+---------+---------+----------+----------+-------------+------------+----------+----------+-------+-------+-----+------------+-----------+-------------+------------+---------------+------+--------------------+\n",
      "| sunrise|  sunset|moonrise| moonset|     moon_phase|moon_illumination|time|tempC|tempF|windspeedMiles|windspeedKmph|winddirDegree|winddir16Point|precipInches|humidity|visibility|visibilityMiles|pressure|pressureInches|cloudcover|HeatIndexC|HeatIndexF|DewPointC|DewPointC|WindChillC|WindChillF|WindGustMiles|WindGustKmph|FeelsLikeC|FeelsLikeF|uvIndex|predict|label|sunriseIndex|sunsetIndex|moonriseIndex|moonsetIndex|moon_phaseIndex|WIndex|            features|\n",
      "+--------+--------+--------+--------+---------------+-----------------+----+-----+-----+--------------+-------------+-------------+--------------+------------+--------+----------+---------------+--------+--------------+----------+----------+----------+---------+---------+----------+----------+-------------+------------+----------+----------+-------+-------+-----+------------+-----------+-------------+------------+---------------+------+--------------------+\n",
      "|05:19 AM|06:42 PM|02:55 AM|05:01 PM|Waning Crescent|                4|   0|   25|   77|             5|            8|          104|           ESE|         0.0|      97|         9|              5|    1007|            30|        73|        28|        82|       24|       24|        25|        77|           12|          19|        28|        82|      6|   rain|  1.0|         7.0|        0.0|       1112.0|       328.0|            5.0|   1.0|[7.0,0.0,1112.0,3...|\n",
      "|05:19 AM|06:42 PM|02:55 AM|05:01 PM|Waning Crescent|                4|   1|   25|   77|             5|            8|          108|           ESE|         0.0|      97|         9|              5|    1006|            30|        45|        29|        83|       24|       24|        25|        77|           12|          19|        29|        83|      6|no rain|  0.0|         7.0|        0.0|       1112.0|       328.0|            5.0|   1.0|[7.0,0.0,1112.0,3...|\n",
      "|05:19 AM|06:42 PM|02:55 AM|05:01 PM|Waning Crescent|                4|   2|   25|   77|             5|            8|          111|           ESE|         0.0|      97|        10|              6|    1006|            30|        53|        29|        84|       25|       25|        25|        77|           12|          20|        29|        84|      6|no rain|  0.0|         7.0|        0.0|       1112.0|       328.0|            5.0|   1.0|[7.0,0.0,1112.0,3...|\n",
      "|05:19 AM|06:42 PM|02:55 AM|05:01 PM|Waning Crescent|                4|   3|   25|   78|             5|            8|          115|           ESE|         0.0|      97|        10|              6|    1005|            30|        61|        29|        84|       25|       25|        25|        78|           12|          19|        29|        84|      6|no rain|  0.0|         7.0|        0.0|       1112.0|       328.0|            5.0|   1.0|[7.0,0.0,1112.0,3...|\n",
      "|05:19 AM|06:42 PM|02:55 AM|05:01 PM|Waning Crescent|                4|   4|   25|   77|             6|            9|          119|           ESE|         0.0|      96|         9|              5|    1005|            30|        60|        28|        83|       25|       25|        25|        77|           12|          19|        28|        83|      6|no rain|  0.0|         7.0|        0.0|       1112.0|       328.0|            5.0|   1.0|[7.0,0.0,1112.0,3...|\n",
      "|05:19 AM|06:42 PM|02:55 AM|05:01 PM|Waning Crescent|                4|   5|   25|   77|             7|           11|          123|           ESE|         0.0|      95|         8|              4|    1006|            30|        59|        28|        83|       24|       24|        25|        77|           11|          18|        28|        83|      6|   rain|  1.0|         7.0|        0.0|       1112.0|       328.0|            5.0|   1.0|[7.0,0.0,1112.0,3...|\n",
      "|05:19 AM|06:42 PM|02:55 AM|05:01 PM|Waning Crescent|                4|   6|   25|   78|             8|           13|          128|            SE|         0.0|      94|         7|              4|    1006|            30|        58|        29|        84|       24|       24|        25|        78|           12|          20|        29|        84|      6|   rain|  1.0|         7.0|        0.0|       1112.0|       328.0|            5.0|   0.0|[7.0,0.0,1112.0,3...|\n",
      "|05:19 AM|06:42 PM|02:55 AM|05:01 PM|Waning Crescent|                4|   7|   26|   79|             7|           12|          136|            SE|         0.0|      92|         8|              4|    1007|            30|        51|        30|        87|       25|       25|        26|        79|           11|          18|        30|        87|      6|   rain|  1.0|         7.0|        0.0|       1112.0|       328.0|            5.0|   0.0|[7.0,0.0,1112.0,3...|\n",
      "|05:19 AM|06:42 PM|02:55 AM|05:01 PM|Waning Crescent|                4|   8|   27|   81|             6|           10|          145|            SE|         0.0|      90|         9|              5|    1007|            30|        45|        32|        90|       25|       25|        27|        81|            9|          15|        32|        90|      6|no rain|  0.0|         7.0|        0.0|       1112.0|       328.0|            5.0|   0.0|[7.0,0.0,1112.0,3...|\n",
      "|05:19 AM|06:42 PM|02:55 AM|05:01 PM|Waning Crescent|                4|   9|   28|   82|             6|            9|          154|           SSE|         0.0|      88|        10|              6|    1008|            30|        38|        34|        92|       26|       26|        28|        82|           10|          16|        34|        92|      6|no rain|  0.0|         7.0|        0.0|       1112.0|       328.0|            5.0|   2.0|[7.0,0.0,1112.0,3...|\n",
      "|05:19 AM|06:42 PM|02:55 AM|05:01 PM|Waning Crescent|                4|  10|   29|   83|             5|            9|          159|           SSE|         0.0|      86|         9|              5|    1007|            30|        82|        35|        95|       26|       26|        29|        83|           13|          20|        35|        95|      6|   rain|  1.0|         7.0|        0.0|       1112.0|       328.0|            5.0|   2.0|[7.0,0.0,1112.0,3...|\n",
      "|05:19 AM|06:42 PM|02:55 AM|05:01 PM|Waning Crescent|                4|  11|   29|   85|             5|            9|          163|           SSE|         0.0|      84|         8|              4|    1006|            30|        84|        36|        97|       26|       26|        29|        85|           12|          20|        36|        97|      6|   rain|  1.0|         7.0|        0.0|       1112.0|       328.0|            5.0|   2.0|[7.0,0.0,1112.0,3...|\n",
      "|05:19 AM|06:42 PM|02:55 AM|05:01 PM|Waning Crescent|                4|  12|   30|   86|             5|            8|          168|           SSE|         0.1|      83|         7|              4|    1005|            30|        76|        37|        99|       27|       27|        30|        86|           12|          19|        37|        99|      6|   rain|  1.0|         7.0|        0.0|       1112.0|       328.0|            5.0|   2.0|[7.0,0.0,1112.0,3...|\n",
      "|05:19 AM|06:42 PM|02:55 AM|05:01 PM|Waning Crescent|                4|  13|   29|   85|             6|            9|          162|           SSE|         0.0|      84|         7|              4|    1005|            30|        87|        36|        97|       26|       26|        29|        85|           13|          20|        36|        97|      6|   rain|  1.0|         7.0|        0.0|       1112.0|       328.0|            5.0|   2.0|[7.0,0.0,1112.0,3...|\n",
      "|05:19 AM|06:42 PM|02:55 AM|05:01 PM|Waning Crescent|                4|  14|   29|   84|             6|           10|          155|           SSE|         0.1|      86|         7|              4|    1005|            30|        85|        36|        96|       26|       26|        29|        84|           15|          25|        36|        96|      6|   rain|  1.0|         7.0|        0.0|       1112.0|       328.0|            5.0|   2.0|[7.0,0.0,1112.0,3...|\n",
      "|05:19 AM|06:42 PM|02:55 AM|05:01 PM|Waning Crescent|                4|  15|   28|   83|             7|           11|          149|           SSE|         0.1|      88|         7|              4|    1004|            30|        74|        35|        95|       26|       26|        28|        83|           16|          26|        35|        95|      6|   rain|  1.0|         7.0|        0.0|       1112.0|       328.0|            5.0|   2.0|[7.0,0.0,1112.0,3...|\n",
      "|05:19 AM|06:42 PM|02:55 AM|05:01 PM|Waning Crescent|                4|  16|   28|   82|             7|           11|          140|            SE|         0.0|      91|         6|              3|    1005|            30|        77|        34|        94|       26|       26|        28|        82|           13|          20|        34|        94|      6|   rain|  1.0|         7.0|        0.0|       1112.0|       328.0|            5.0|   0.0|[7.0,0.0,1112.0,3...|\n",
      "|05:19 AM|06:42 PM|02:55 AM|05:01 PM|Waning Crescent|                4|  17|   28|   82|             6|           10|          131|            SE|         0.1|      93|         4|              2|    1005|            30|        88|        34|        93|       26|       26|        28|        82|           12|          19|        34|        93|      6|   rain|  1.0|         7.0|        0.0|       1112.0|       328.0|            5.0|   0.0|[7.0,0.0,1112.0,3...|\n",
      "|05:19 AM|06:42 PM|02:55 AM|05:01 PM|Waning Crescent|                4|  18|   27|   81|             6|           10|          122|           ESE|         0.1|      96|         3|              1|    1005|            30|        81|        33|        91|       27|       27|        27|        81|           11|          17|        33|        91|      6|   rain|  1.0|         7.0|        0.0|       1112.0|       328.0|            5.0|   1.0|[7.0,0.0,1112.0,3...|\n",
      "|05:19 AM|06:42 PM|02:55 AM|05:01 PM|Waning Crescent|                4|  19|   27|   80|             6|            9|          125|            SE|         0.1|      96|         5|              3|    1006|            30|        89|        32|        89|       26|       26|        27|        80|           14|          22|        32|        89|      6|   rain|  1.0|         7.0|        0.0|       1112.0|       328.0|            5.0|   0.0|[7.0,0.0,1112.0,3...|\n",
      "+--------+--------+--------+--------+---------------+-----------------+----+-----+-----+--------------+-------------+-------------+--------------+------------+--------+----------+---------------+--------+--------------+----------+----------+----------+---------+---------+----------+----------+-------------+------------+----------+----------+-------+-------+-----+------------+-----------+-------------+------------+---------------+------+--------------------+\n",
      "only showing top 20 rows\n",
      "\n"
     ]
    }
   ],
   "source": [
    "df.show()"
   ]
  },
  {
   "cell_type": "code",
   "execution_count": 21,
   "metadata": {
    "execution": {
     "iopub.execute_input": "2024-01-21T13:55:43.525515Z",
     "iopub.status.busy": "2024-01-21T13:55:43.525124Z",
     "iopub.status.idle": "2024-01-21T13:55:43.542357Z",
     "shell.execute_reply": "2024-01-21T13:55:43.541196Z",
     "shell.execute_reply.started": "2024-01-21T13:55:43.525479Z"
    },
    "trusted": true
   },
   "outputs": [],
   "source": [
    "# Initialize evaluator\n",
    "# Khởi tạo bộ đánh giá\n",
    "# Sử dụng để đánh giá độ chính xác của mô hình phân loại đa lớp bằng cách so sánh các nhãn dự đoán với các nhãn thực tế trong tập dữ liệu\n",
    "evaluator = MulticlassClassificationEvaluator(labelCol='label', predictionCol='prediction', metricName='accuracy')"
   ]
  },
  {
   "cell_type": "code",
   "execution_count": 22,
   "metadata": {
    "execution": {
     "iopub.execute_input": "2024-01-21T13:55:43.543907Z",
     "iopub.status.busy": "2024-01-21T13:55:43.543497Z",
     "iopub.status.idle": "2024-01-21T13:55:46.216883Z",
     "shell.execute_reply": "2024-01-21T13:55:46.215851Z",
     "shell.execute_reply.started": "2024-01-21T13:55:43.543872Z"
    },
    "trusted": true
   },
   "outputs": [
    {
     "name": "stderr",
     "output_type": "stream",
     "text": [
      "                                                                                \r"
     ]
    }
   ],
   "source": [
    "# Evaluate the models\n",
    "# Đánh giá độ chính xác của hai mô hình\n",
    "accuracy_rf = evaluator.evaluate(predictions_rf)\n",
    "accuracy_lr = evaluator.evaluate(predictions_lr)"
   ]
  },
  {
   "cell_type": "code",
   "execution_count": 23,
   "metadata": {
    "execution": {
     "iopub.execute_input": "2024-01-21T13:55:46.218344Z",
     "iopub.status.busy": "2024-01-21T13:55:46.217961Z",
     "iopub.status.idle": "2024-01-21T13:55:46.226158Z",
     "shell.execute_reply": "2024-01-21T13:55:46.224853Z",
     "shell.execute_reply.started": "2024-01-21T13:55:46.218310Z"
    },
    "trusted": true
   },
   "outputs": [
    {
     "name": "stdout",
     "output_type": "stream",
     "text": [
      "Random Forest Accuracy: 0.8365167916651273\n",
      "Logistic Regression Accuracy: 0.8139801233974951\n"
     ]
    }
   ],
   "source": [
    "# Print the results\n",
    "print('Random Forest Accuracy:', accuracy_rf)\n",
    "print('Logistic Regression Accuracy:', accuracy_lr)"
   ]
  },
  {
   "cell_type": "code",
   "execution_count": 24,
   "metadata": {
    "execution": {
     "iopub.execute_input": "2024-01-21T13:55:46.228844Z",
     "iopub.status.busy": "2024-01-21T13:55:46.228277Z",
     "iopub.status.idle": "2024-01-21T13:55:52.895539Z",
     "shell.execute_reply": "2024-01-21T13:55:52.894409Z",
     "shell.execute_reply.started": "2024-01-21T13:55:46.228806Z"
    },
    "trusted": true
   },
   "outputs": [
    {
     "name": "stderr",
     "output_type": "stream",
     "text": [
      "                                                                                \r"
     ]
    }
   ],
   "source": [
    "# Calculate precision, recall, f1-score\n",
    "# Tính toán các chỉ số precision, recall, và f1-score cho hai mô hình\n",
    "evaluator.setMetricName('weightedPrecision')\n",
    "precision_rf = evaluator.evaluate(predictions_rf)\n",
    "precision_lr = evaluator.evaluate(predictions_lr)\n",
    "\n",
    "evaluator.setMetricName('weightedRecall')\n",
    "recall_rf = evaluator.evaluate(predictions_rf)\n",
    "recall_lr = evaluator.evaluate(predictions_lr)\n",
    "\n",
    "evaluator.setMetricName('f1')\n",
    "f1_score_rf = evaluator.evaluate(predictions_rf)\n",
    "f1_score_lr = evaluator.evaluate(predictions_lr)"
   ]
  },
  {
   "cell_type": "code",
   "execution_count": 25,
   "metadata": {
    "execution": {
     "iopub.execute_input": "2024-01-21T13:55:52.897221Z",
     "iopub.status.busy": "2024-01-21T13:55:52.896791Z",
     "iopub.status.idle": "2024-01-21T13:55:52.904515Z",
     "shell.execute_reply": "2024-01-21T13:55:52.903416Z",
     "shell.execute_reply.started": "2024-01-21T13:55:52.897181Z"
    },
    "trusted": true
   },
   "outputs": [
    {
     "name": "stdout",
     "output_type": "stream",
     "text": [
      "Random Forest Precision: 0.8339644214904203\n",
      "Random Forest Recall: 0.8365167916651273\n",
      "Random Forest F1-Score: 0.826309268621003\n",
      "Logistic Regression Precision: 0.8080739108107163\n",
      "Logistic Regression Recall: 0.8139801233974951\n",
      "Logistic Regression F1-Score: 0.8093841060522646\n"
     ]
    }
   ],
   "source": [
    "# Print the evaluation metrics\n",
    "print('Random Forest Precision:', precision_rf)\n",
    "print('Random Forest Recall:', recall_rf)\n",
    "print('Random Forest F1-Score:', f1_score_rf)\n",
    "print('Logistic Regression Precision:', precision_lr)\n",
    "print('Logistic Regression Recall:', recall_lr)\n",
    "print('Logistic Regression F1-Score:', f1_score_lr)"
   ]
  },
  {
   "cell_type": "code",
   "execution_count": 26,
   "metadata": {
    "execution": {
     "iopub.execute_input": "2024-01-21T13:55:52.906871Z",
     "iopub.status.busy": "2024-01-21T13:55:52.906340Z",
     "iopub.status.idle": "2024-01-21T13:55:52.914479Z",
     "shell.execute_reply": "2024-01-21T13:55:52.913434Z",
     "shell.execute_reply.started": "2024-01-21T13:55:52.906831Z"
    },
    "trusted": true
   },
   "outputs": [],
   "source": [
    "# Stop the Spark session\n",
    "spark.stop()"
   ]
  }
 ],
 "metadata": {
  "kaggle": {
   "accelerator": "none",
   "dataSources": [
    {
     "datasetId": 4331026,
     "sourceId": 7441173,
     "sourceType": "datasetVersion"
    }
   ],
   "dockerImageVersionId": 30635,
   "isGpuEnabled": false,
   "isInternetEnabled": true,
   "language": "python",
   "sourceType": "notebook"
  },
  "kernelspec": {
   "display_name": "Python 3",
   "language": "python",
   "name": "python3"
  },
  "language_info": {
   "codemirror_mode": {
    "name": "ipython",
    "version": 3
   },
   "file_extension": ".py",
   "mimetype": "text/x-python",
   "name": "python",
   "nbconvert_exporter": "python",
   "pygments_lexer": "ipython3",
   "version": "3.10.12"
  }
 },
 "nbformat": 4,
 "nbformat_minor": 4
}
